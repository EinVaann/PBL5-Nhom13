{
 "cells": [
  {
   "cell_type": "code",
   "execution_count": 1,
   "metadata": {},
   "outputs": [],
   "source": [
    "import math\n",
    "\n",
    "import librosa\n",
    "import numpy as np\n",
    "\n",
    "def get_mfcc(file_path):\n",
    "    y, sr = librosa.load(file_path)  # read .wav file\n",
    "    hop_length = math.floor(sr * 0.010)  # 10ms hop\n",
    "    win_length = math.floor(sr * 0.025)  # 25ms frame\n",
    "    # mfcc is 12 x T matrix\n",
    "    mfcc = librosa.feature.mfcc(\n",
    "        y=y, sr=sr, n_mfcc=12, n_fft=1024,\n",
    "        hop_length=hop_length, win_length=win_length)\n",
    "    # subtract mean from mfcc --> normalize mfcc\n",
    "    mfcc = mfcc - np.mean(mfcc, axis=1).reshape((-1, 1))\n",
    "    # delta feature 1st order and 2nd order\n",
    "    delta1 = librosa.feature.delta(mfcc, order=1)\n",
    "    delta2 = librosa.feature.delta(mfcc, order=2)\n",
    "    # X is 36 x T\n",
    "    X = np.concatenate([mfcc, delta1, delta2], axis=0)  # O^r\n",
    "    # return T x 36 (transpose of X)\n",
    "    return X.T  # hmmlearn use T x N matrix"
   ]
  },
  {
   "cell_type": "code",
   "execution_count": 2,
   "metadata": {},
   "outputs": [],
   "source": [
    "import os\n",
    "import pickle\n",
    "\n",
    "import hmmlearn.hmm as hmm\n",
    "import numpy as np\n",
    "from sklearn.model_selection import train_test_split\n",
    "from sklearn.metrics import confusion_matrix"
   ]
  },
  {
   "cell_type": "code",
   "execution_count": 96,
   "metadata": {},
   "outputs": [],
   "source": [
    "class_names = ['xemnhietdo', 'xemgio']\n",
    "states = [8,8]\n",
    "dataset_path = 'audio'"
   ]
  },
  {
   "cell_type": "code",
   "execution_count": 97,
   "metadata": {},
   "outputs": [],
   "source": [
    "X = {'train': {}, 'test': {}}\n",
    "y = {'train': {}, 'test': {}}\n",
    "\n",
    "model = {}\n",
    "model_path = 'models_train'"
   ]
  },
  {
   "cell_type": "code",
   "execution_count": 98,
   "metadata": {},
   "outputs": [
    {
     "name": "stdout",
     "output_type": "stream",
     "text": [
      "Total samples: 110\n"
     ]
    }
   ],
   "source": [
    "length = 0\n",
    "for cname in class_names:\n",
    "    length += len(os.listdir(f\"{dataset_path}/{cname}\"))\n",
    "print('Total samples:', length)\n",
    "\n",
    "all_data = {}\n",
    "all_labels = {}\n",
    "for cname in class_names:\n",
    "    file_paths = [os.path.join(dataset_path, cname, i) for i in os.listdir(\n",
    "        os.path.join(dataset_path, cname)) if i.endswith('.wav')]\n",
    "    data = [get_mfcc(file_path) for file_path in file_paths]\n",
    "    all_data[cname] = data\n",
    "    all_labels[cname] = [class_names.index(cname) for _ in range(len(file_paths))]\n",
    "\n",
    "for cname in class_names:\n",
    "    x_train, x_test, y_train, y_test = train_test_split(\n",
    "        all_data[cname], all_labels[cname],\n",
    "        test_size=0.33,\n",
    "        random_state=42\n",
    "    )\n",
    "\n",
    "    X['train'][cname] = x_train\n",
    "    X['test'][cname] = x_test\n",
    "    y['test'][cname] = y_test"
   ]
  },
  {
   "cell_type": "code",
   "execution_count": 99,
   "metadata": {},
   "outputs": [
    {
     "name": "stdout",
     "output_type": "stream",
     "text": [
      "xemnhietdo train: 33 | test: 17\n",
      "xemgio train: 40 | test: 20\n",
      "train samples: 73\n",
      "test samples 37\n"
     ]
    }
   ],
   "source": [
    "total_train = 0\n",
    "total_test = 0\n",
    "for cname in class_names:\n",
    "    train_count = len(X['train'][cname])\n",
    "    test_count = len(X['test'][cname])\n",
    "    print(cname, 'train:', train_count, '| test:', test_count)\n",
    "    total_train += train_count\n",
    "    total_test += test_count\n",
    "print('train samples:', total_train)\n",
    "print('test samples', total_test)"
   ]
  },
  {
   "cell_type": "code",
   "execution_count": 100,
   "metadata": {},
   "outputs": [
    {
     "name": "stdout",
     "output_type": "stream",
     "text": [
      "xemnhietdo\n",
      "[[0.5 0.5 0.  0.  0.  0.  0.  0. ]\n",
      " [0.  0.5 0.5 0.  0.  0.  0.  0. ]\n",
      " [0.  0.  0.5 0.5 0.  0.  0.  0. ]\n",
      " [0.  0.  0.  0.5 0.5 0.  0.  0. ]\n",
      " [0.  0.  0.  0.  0.5 0.5 0.  0. ]\n",
      " [0.  0.  0.  0.  0.  0.5 0.5 0. ]\n",
      " [0.  0.  0.  0.  0.  0.  0.5 0.5]\n",
      " [0.  0.  0.  0.  0.  0.  0.  1. ]]\n"
     ]
    },
    {
     "name": "stderr",
     "output_type": "stream",
     "text": [
      "         1     -431041.1212             +nan\n",
      "         2     -402852.8035      +28188.3176\n",
      "         3     -395594.3568       +7258.4467\n",
      "         4     -393559.0430       +2035.3138\n",
      "         5     -392443.5909       +1115.4520\n",
      "         6     -391713.4670        +730.1239\n",
      "         7     -391270.9743        +442.4927\n",
      "         8     -390914.0476        +356.9267\n",
      "         9     -390623.3564        +290.6912\n",
      "        10     -390380.5085        +242.8478\n",
      "        11     -390168.1895        +212.3191\n",
      "        12     -389968.6352        +199.5543\n",
      "        13     -389833.3445        +135.2906\n",
      "        14     -389715.9419        +117.4026\n",
      "        15     -389664.0349         +51.9071\n",
      "        16     -389637.2492         +26.7857\n",
      "        17     -389622.0577         +15.1915\n",
      "        18     -389609.6840         +12.3737\n",
      "        19     -389597.8145         +11.8695\n",
      "        20     -389588.9248          +8.8897\n",
      "        21     -389585.2458          +3.6790\n",
      "        22     -389583.9224          +1.3234\n",
      "        23     -389583.4032          +0.5193\n",
      "        24     -389583.1897          +0.2135\n",
      "        25     -389583.1003          +0.0893\n",
      "        26     -389583.0627          +0.0376\n",
      "        27     -389583.0470          +0.0157\n",
      "        28     -389583.0408          +0.0063\n"
     ]
    },
    {
     "name": "stdout",
     "output_type": "stream",
     "text": [
      "xemgio\n",
      "[[0.5 0.5 0.  0.  0.  0.  0.  0. ]\n",
      " [0.  0.5 0.5 0.  0.  0.  0.  0. ]\n",
      " [0.  0.  0.5 0.5 0.  0.  0.  0. ]\n",
      " [0.  0.  0.  0.5 0.5 0.  0.  0. ]\n",
      " [0.  0.  0.  0.  0.5 0.5 0.  0. ]\n",
      " [0.  0.  0.  0.  0.  0.5 0.5 0. ]\n",
      " [0.  0.  0.  0.  0.  0.  0.5 0.5]\n",
      " [0.  0.  0.  0.  0.  0.  0.  1. ]]\n"
     ]
    },
    {
     "name": "stderr",
     "output_type": "stream",
     "text": [
      "         1     -314000.8162             +nan\n",
      "         2     -292342.3005      +21658.5157\n",
      "         3     -289176.3832       +3165.9173\n",
      "         4     -288369.2198        +807.1634\n",
      "         5     -287952.3035        +416.9164\n",
      "         6     -287537.2432        +415.0602\n",
      "         7     -287081.2172        +456.0261\n",
      "         8     -286729.9543        +351.2629\n",
      "         9     -286667.1348         +62.8195\n",
      "        10     -286638.0752         +29.0596\n",
      "        11     -286620.4595         +17.6157\n",
      "        12     -286611.7289          +8.7306\n",
      "        13     -286606.6926          +5.0362\n",
      "        14     -286603.1139          +3.5788\n",
      "        15     -286600.5057          +2.6082\n",
      "        16     -286598.5590          +1.9467\n",
      "        17     -286597.1130          +1.4459\n",
      "        18     -286596.1295          +0.9836\n",
      "        19     -286595.5085          +0.6209\n",
      "        20     -286595.1561          +0.3525\n",
      "        21     -286594.9659          +0.1902\n",
      "        22     -286594.8560          +0.1099\n",
      "        23     -286594.7869          +0.0691\n",
      "        24     -286594.7408          +0.0460\n",
      "        25     -286594.7089          +0.0319\n",
      "        26     -286594.6858          +0.0231\n",
      "        27     -286594.6684          +0.0174\n",
      "        28     -286594.6546          +0.0138\n",
      "        29     -286594.6430          +0.0115\n",
      "        30     -286594.6330          +0.0101\n",
      "        31     -286594.6238          +0.0092\n"
     ]
    }
   ],
   "source": [
    "for idx, cname in enumerate(class_names):\n",
    "    start_prob = np.full(states[idx], 0.0)\n",
    "    start_prob[0] = 1.0\n",
    "    trans_matrix = np.full((states[idx], states[idx]), 0.0)\n",
    "    p = 0.5\n",
    "    np.fill_diagonal(trans_matrix, p)\n",
    "    np.fill_diagonal(trans_matrix[0:, 1:], 1 - p)\n",
    "    trans_matrix[-1, -1] = 1.0\n",
    "\n",
    "    # trans matrix\n",
    "    print(cname)\n",
    "    print(trans_matrix)\n",
    "\n",
    "    model[cname] = hmm.GaussianHMM(\n",
    "        n_components=states[idx],\n",
    "        verbose=True,\n",
    "        n_iter=300,\n",
    "        startprob_prior=start_prob,\n",
    "        transmat_prior=trans_matrix,\n",
    "        params='stmc',\n",
    "        init_params='mc',\n",
    "        random_state=42\n",
    "    )\n",
    "    model[cname].fit(X=np.vstack(X['train'][cname]),\n",
    "                            lengths=[x.shape[0] for x in X['train'][cname]])"
   ]
  },
  {
   "cell_type": "code",
   "execution_count": 101,
   "metadata": {},
   "outputs": [],
   "source": [
    "for cname in class_names:\n",
    "    name = f'{model_path}/model_{cname}.pkl'\n",
    "    with open(name, 'wb') as file:\n",
    "        pickle.dump(model[cname], file)"
   ]
  },
  {
   "cell_type": "code",
   "execution_count": 102,
   "metadata": {},
   "outputs": [
    {
     "name": "stdout",
     "output_type": "stream",
     "text": [
      "====== Evaluation ======\n",
      "xemnhietdo: 1.0\n",
      "xemgio: 1.0\n",
      "======\n",
      "Confusion matrix:\n",
      "[[17  0]\n",
      " [ 0 20]]\n"
     ]
    }
   ],
   "source": [
    "print('====== Evaluation ======')\n",
    "y_true = []\n",
    "y_pred = []\n",
    "for cname in class_names:\n",
    "    for mfcc, target in zip(X['test'][cname], y['test'][cname]):\n",
    "        scores = [model[cname].score(mfcc) for cname in class_names]\n",
    "        pred = np.argmax(scores)\n",
    "        y_pred.append(pred)\n",
    "        y_true.append(target)\n",
    "    print(f'{cname}:', (np.array(y_true) == np.array(y_pred)).sum() / len(y_true))\n",
    "print('======')\n",
    "print('Confusion matrix:')\n",
    "print(confusion_matrix(y_true, y_pred))"
   ]
  },
  {
   "cell_type": "markdown",
   "metadata": {},
   "source": [
    "Train with full dataset"
   ]
  },
  {
   "cell_type": "code",
   "execution_count": 103,
   "metadata": {},
   "outputs": [],
   "source": [
    "finalX = {}\n",
    "for cname in class_names:\n",
    "    finalX[cname] = X['test'][cname] + X['train'][cname]"
   ]
  },
  {
   "cell_type": "code",
   "execution_count": 104,
   "metadata": {},
   "outputs": [
    {
     "name": "stdout",
     "output_type": "stream",
     "text": [
      "xemnhietdo\n"
     ]
    },
    {
     "name": "stderr",
     "output_type": "stream",
     "text": [
      "         1     -689212.9467             +nan\n",
      "         2     -637646.8511      +51566.0957\n",
      "         3     -628314.4702       +9332.3809\n",
      "         4     -625918.5078       +2395.9624\n",
      "         5     -625109.7997        +808.7081\n",
      "         6     -624498.7137        +611.0860\n",
      "         7     -624011.1387        +487.5750\n",
      "         8     -623489.2556        +521.8831\n",
      "         9     -623035.0760        +454.1796\n",
      "        10     -622625.5724        +409.5037\n",
      "        11     -622356.9389        +268.6334\n",
      "        12     -622186.0970        +170.8419\n",
      "        13     -622067.2227        +118.8743\n",
      "        14     -621966.7295        +100.4932\n",
      "        15     -621861.2896        +105.4399\n",
      "        16     -621766.8620         +94.4276\n",
      "        17     -621677.9995         +88.8625\n",
      "        18     -621592.7955         +85.2040\n",
      "        19     -621537.5156         +55.2800\n",
      "        20     -621494.9460         +42.5696\n",
      "        21     -621445.7298         +49.2162\n",
      "        22     -621400.1593         +45.5705\n",
      "        23     -621365.4065         +34.7528\n",
      "        24     -621333.2816         +32.1248\n",
      "        25     -621299.9391         +33.3426\n",
      "        26     -621269.8032         +30.1358\n",
      "        27     -621244.7895         +25.0137\n",
      "        28     -621221.8527         +22.9368\n",
      "        29     -621201.2748         +20.5779\n",
      "        30     -621183.2928         +17.9819\n",
      "        31     -621163.7240         +19.5689\n",
      "        32     -621139.5190         +24.2050\n",
      "        33     -621117.3499         +22.1691\n",
      "        34     -621101.6828         +15.6671\n",
      "        35     -621081.0657         +20.6171\n",
      "        36     -621040.5432         +40.5224\n",
      "        37     -620988.0354         +52.5078\n",
      "        38     -620965.7493         +22.2861\n",
      "        39     -620952.0985         +13.6508\n",
      "        40     -620943.2834          +8.8151\n",
      "        41     -620937.5163          +5.7670\n",
      "        42     -620934.3969          +3.1195\n",
      "        43     -620932.4293          +1.9676\n",
      "        44     -620930.8492          +1.5800\n",
      "        45     -620929.4056          +1.4437\n",
      "        46     -620928.1787          +1.2268\n",
      "        47     -620927.1827          +0.9960\n",
      "        48     -620926.3622          +0.8206\n",
      "        49     -620925.7005          +0.6616\n",
      "        50     -620925.2004          +0.5002\n",
      "        51     -620924.8416          +0.3588\n",
      "        52     -620924.5888          +0.2528\n",
      "        53     -620924.4114          +0.1774\n",
      "        54     -620924.2879          +0.1235\n",
      "        55     -620924.2029          +0.0850\n",
      "        56     -620924.1449          +0.0579\n",
      "        57     -620924.1057          +0.0392\n",
      "        58     -620924.0793          +0.0264\n",
      "        59     -620924.0615          +0.0178\n",
      "        60     -620924.0496          +0.0119\n",
      "        61     -620924.0416          +0.0080\n"
     ]
    },
    {
     "name": "stdout",
     "output_type": "stream",
     "text": [
      "xemgio\n"
     ]
    },
    {
     "name": "stderr",
     "output_type": "stream",
     "text": [
      "         1     -470349.0823             +nan\n",
      "         2     -437744.6421      +32604.4401\n",
      "         3     -432900.7473       +4843.8949\n",
      "         4     -431824.9965       +1075.7508\n",
      "         5     -431221.7521        +603.2444\n",
      "         6     -430915.7754        +305.9767\n",
      "         7     -430767.4832        +148.2922\n",
      "         8     -430667.8906         +99.5926\n",
      "         9     -430581.0706         +86.8200\n",
      "        10     -430515.4203         +65.6503\n",
      "        11     -430483.0501         +32.3702\n",
      "        12     -430462.4525         +20.5976\n",
      "        13     -430443.3886         +19.0639\n",
      "        14     -430415.6243         +27.7643\n",
      "        15     -430375.8305         +39.7938\n",
      "        16     -430323.0057         +52.8248\n",
      "        17     -430211.3684        +111.6373\n",
      "        18     -430101.5262        +109.8422\n",
      "        19     -430081.6752         +19.8510\n",
      "        20     -430079.4864          +2.1888\n",
      "        21     -430078.9283          +0.5581\n",
      "        22     -430078.5121          +0.4162\n",
      "        23     -430077.9701          +0.5420\n",
      "        24     -430077.6180          +0.3522\n",
      "        25     -430077.5020          +0.1160\n",
      "        26     -430077.4491          +0.0529\n",
      "        27     -430077.4147          +0.0343\n",
      "        28     -430077.3898          +0.0249\n",
      "        29     -430077.3711          +0.0188\n",
      "        30     -430077.3566          +0.0144\n",
      "        31     -430077.3453          +0.0113\n",
      "        32     -430077.3364          +0.0090\n"
     ]
    }
   ],
   "source": [
    "for idx, cname in enumerate(class_names):\n",
    "    start_prob = np.full(states[idx], 0.0)\n",
    "    trans_matrix = np.full((states[idx], states[idx]), 0.0)\n",
    "    p = 0.5\n",
    "    np.fill_diagonal(trans_matrix, p)\n",
    "    np.fill_diagonal(trans_matrix[0:, 1:], 1 - p)\n",
    "    trans_matrix[-1, -1] = 1.0\n",
    "\n",
    "    # trans matrix\n",
    "    print(cname)\n",
    "    # print(trans_matrix)\n",
    "\n",
    "    model[cname] = hmm.GaussianHMM(\n",
    "        n_components=states[idx],\n",
    "        verbose=True,\n",
    "        n_iter=300,\n",
    "        startprob_prior=start_prob,\n",
    "        transmat_prior=trans_matrix,\n",
    "        params='stmc',\n",
    "        init_params='mc',\n",
    "        random_state=42\n",
    "    )\n",
    "    model[cname].fit(X=np.vstack(finalX[cname]),\n",
    "        lengths=[x.shape[0] for x in finalX[cname]])"
   ]
  },
  {
   "cell_type": "code",
   "execution_count": 105,
   "metadata": {},
   "outputs": [],
   "source": [
    "for cname in class_names:\n",
    "    name = f'{model_path}/model_{cname}.pkl'\n",
    "    with open(name, 'wb') as file:\n",
    "        pickle.dump(model[cname], file)"
   ]
  },
  {
   "cell_type": "markdown",
   "metadata": {},
   "source": [
    "Test with new wav file"
   ]
  },
  {
   "cell_type": "code",
   "execution_count": 113,
   "metadata": {},
   "outputs": [
    {
     "name": "stdout",
     "output_type": "stream",
     "text": [
      "[-11209.51934401379, -12102.927778346906]\n",
      "Output: xemnhietdo\n"
     ]
    }
   ],
   "source": [
    "test_file_path = 'xemnd.wav'\n",
    "test_mfcc = get_mfcc(test_file_path)\n",
    "scores = [model[cname].score(test_mfcc) for cname in class_names]\n",
    "print(scores)\n",
    "print(\"Output:\",class_names[np.argmax(scores)])"
   ]
  }
 ],
 "metadata": {
  "interpreter": {
   "hash": "cfcfbbd76e88e95dc35e2ca9edf0c1e882d0553cc29bc4cac8c0f4eabeb0ecb9"
  },
  "kernelspec": {
   "display_name": "Python 3.10.2 64-bit",
   "language": "python",
   "name": "python3"
  },
  "language_info": {
   "codemirror_mode": {
    "name": "ipython",
    "version": 3
   },
   "file_extension": ".py",
   "mimetype": "text/x-python",
   "name": "python",
   "nbconvert_exporter": "python",
   "pygments_lexer": "ipython3",
   "version": "3.10.2"
  },
  "orig_nbformat": 4
 },
 "nbformat": 4,
 "nbformat_minor": 2
}
