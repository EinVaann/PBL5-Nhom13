{
 "cells": [
  {
   "cell_type": "code",
   "execution_count": 1,
   "metadata": {},
   "outputs": [],
   "source": [
    "import math\n",
    "\n",
    "import librosa\n",
    "import numpy as np"
   ]
  },
  {
   "cell_type": "code",
   "execution_count": 2,
   "metadata": {},
   "outputs": [],
   "source": [
    "\n",
    "\n",
    "def get_mfcc(file_path):\n",
    "    y, sr = librosa.load(file_path)  # read .wav file\n",
    "    hop_length = math.floor(sr * 0.010)  # 10ms hop\n",
    "    win_length = math.floor(sr * 0.025)  # 25ms frame\n",
    "    # mfcc is 12 x T matrix\n",
    "    mfcc = librosa.feature.mfcc(\n",
    "        y=y, sr=sr, n_mfcc=12, n_fft=1024,\n",
    "        hop_length=hop_length, win_length=win_length)\n",
    "    # subtract mean from mfcc --> normalize mfcc\n",
    "    mfcc = mfcc - np.mean(mfcc, axis=1).reshape((-1, 1))\n",
    "    # delta feature 1st order and 2nd order\n",
    "    # delta1 = librosa.feature.delta(mfcc, order=1)\n",
    "    # delta2 = librosa.feature.delta(mfcc, order=2)\n",
    "    # # X is 36 x T\n",
    "    # X = np.concatenate([mfcc, delta1, delta2], axis=0) \n",
    "    # # return T x 36 (transpose of X)\n",
    "    return np.array(mfcc).T  # hmmlearn use T x N matrix"
   ]
  },
  {
   "cell_type": "code",
   "execution_count": 3,
   "metadata": {},
   "outputs": [],
   "source": [
    "import os\n",
    "import pickle\n",
    "\n",
    "import hmmlearn.hmm as hmm\n",
    "import numpy as np\n",
    "from sklearn.model_selection import train_test_split\n",
    "from sklearn.metrics import confusion_matrix"
   ]
  },
  {
   "cell_type": "code",
   "execution_count": 4,
   "metadata": {},
   "outputs": [],
   "source": [
    "class_names = ['xemnhietdo','xemgio','xemngay','xemthoitiet','tatden','batden','tatquat','batquat','tatnhac','batnhac']\n",
    "states = [10, 7, 8, 11, 8, 8, 8, 8, 8, 8]\n",
    "dataset_path = 'datasets/train_audio'"
   ]
  },
  {
   "cell_type": "code",
   "execution_count": 5,
   "metadata": {},
   "outputs": [],
   "source": [
    "X = {'train': {}, 'test': {}}\n",
    "y = {'train': {}, 'test': {}}\n",
    "\n",
    "model = {}\n",
    "model_path = 'model'"
   ]
  },
  {
   "cell_type": "code",
   "execution_count": 76,
   "metadata": {},
   "outputs": [
    {
     "data": {
      "text/plain": [
       "21"
      ]
     },
     "execution_count": 76,
     "metadata": {},
     "output_type": "execute_result"
    }
   ],
   "source": [
    "len(os.listdir(dataset_path+\"/\"+\"batden\"))"
   ]
  },
  {
   "cell_type": "code",
   "execution_count": 49,
   "metadata": {},
   "outputs": [
    {
     "name": "stdout",
     "output_type": "stream",
     "text": [
      "['An', 'Toan', 'Thinh', 'Anh', 'Nhat']\n",
      "['Lan', 'Quang', 'Hoa', 'Vu', 'Tien', 'Tai', 'Hieu', 'Nhu', 'Yen', 'Hung', 'San', 'Nghi', 'Thai', 'May']\n"
     ]
    }
   ],
   "source": [
    "for cname in class_names:\n",
    "    file_paths = [i for i in os.listdir(os.path.join(dataset_path, cname))]\n",
    "vocal_train,vocal_test = train_test_split(file_paths,test_size=0.25,random_state=42)\n",
    "print(vocal_test)\n",
    "vocal_train.remove('Phuong')\n",
    "print(vocal_train)\n",
    "\n"
   ]
  },
  {
   "cell_type": "code",
   "execution_count": 50,
   "metadata": {},
   "outputs": [],
   "source": [
    "X = {'train':{},'test':{}}\n",
    "Y = {'train':{},'test':{}}\n",
    "for cname in class_names:\n",
    "    train_data = []\n",
    "    for v in vocal_train:\n",
    "        paths = dataset_path+\"/\"+cname+\"/\"+v\n",
    "        for i in os.listdir(paths):\n",
    "            train_data.append(get_mfcc(paths+\"/\"+i))\n",
    "    X['train'][cname] = train_data\n",
    "    Y['train'][cname] = [class_names.index(cname) for _ in range(len(vocal_train)*5)]\n",
    "    test_data = []\n",
    "    for v in vocal_test:\n",
    "        paths = dataset_path+\"/\"+cname+\"/\"+v\n",
    "        for i in os.listdir(paths):\n",
    "            test_data.append(get_mfcc(paths+\"/\"+i))\n",
    "    X['test'][cname] = test_data        \n",
    "    Y['test'][cname] = [class_names.index(cname) for _ in range(len(vocal_test)*5)]\n"
   ]
  },
  {
   "cell_type": "code",
   "execution_count": null,
   "metadata": {},
   "outputs": [],
   "source": [
    "all_data = {}\n",
    "all_labels = {}\n",
    "for cname in class_names:\n",
    "    all_data[cname] = []\n",
    "    all_labels[cname] = []\n",
    "    for v in os.listdir(dataset_path+\"/\"+cname):\n",
    "        if v == 'Phuong':\n",
    "            continue\n",
    "        for i in os.listdir(dataset_path+\"/\"+cname+\"/\"+v):\n",
    "            file_pathsss = dataset_path+\"/\"+cname+\"/\"+v+\"/\"+i\n",
    "            print(file_pathsss)\n",
    "            all_data[cname].append(get_mfcc(file_pathsss))\n",
    "            # print(dataset_path+\"/\"+cname+\"/\"+v+\"/\"+i)\n",
    "    all_labels[cname] = [class_names.index(cname) for _ in range(100)]"
   ]
  },
  {
   "cell_type": "code",
   "execution_count": 78,
   "metadata": {},
   "outputs": [
    {
     "data": {
      "text/plain": [
       "100"
      ]
     },
     "execution_count": 78,
     "metadata": {},
     "output_type": "execute_result"
    }
   ],
   "source": [
    "len(all_labels['batden'])"
   ]
  },
  {
   "cell_type": "code",
   "execution_count": 64,
   "metadata": {},
   "outputs": [
    {
     "name": "stdout",
     "output_type": "stream",
     "text": [
      "Total samples: 150\n"
     ]
    }
   ],
   "source": [
    "# all_data = {}\n",
    "# all_labels = {}\n",
    "# for cname in class_names:\n",
    "#     file_paths = [os.path.join(dataset_path, cname, i) for i in os.listdir(\n",
    "#         os.path.join(dataset_path, cname)) if i.endswith('.wav')]\n",
    "#     data = [get_mfcc(file_path) for file_path in file_paths]\n",
    "#     all_data[cname] = data\n",
    "#     all_labels[cname] = [class_names.index(cname) for _ in range(len(file_paths))]\n",
    "\n",
    "for cname in class_names:\n",
    "    x_train, x_test, y_train, y_test = train_test_split(\n",
    "        all_data[cname], all_labels[cname],\n",
    "        test_size=0.33,\n",
    "        random_state=42\n",
    "    )\n",
    "\n",
    "    X['train'][cname] = x_train\n",
    "    X['test'][cname] = x_test\n",
    "    y['test'][cname] = y_test"
   ]
  },
  {
   "cell_type": "code",
   "execution_count": 52,
   "metadata": {},
   "outputs": [
    {
     "name": "stdout",
     "output_type": "stream",
     "text": [
      "xemnhietdo train: 70 | test: 25\n",
      "xemgio train: 70 | test: 25\n",
      "xemngay train: 70 | test: 25\n",
      "xemthoitiet train: 70 | test: 25\n",
      "tatden train: 70 | test: 25\n",
      "batden train: 70 | test: 25\n",
      "tatquat train: 70 | test: 25\n",
      "batquat train: 70 | test: 25\n",
      "tatnhac train: 70 | test: 25\n",
      "batnhac train: 70 | test: 25\n",
      "train samples: 700\n",
      "test samples 250\n"
     ]
    }
   ],
   "source": [
    "total_train = 0\n",
    "total_test = 0\n",
    "for cname in class_names:\n",
    "    train_count = len(X['train'][cname])\n",
    "    test_count = len(X['test'][cname])\n",
    "    print(cname, 'train:', train_count, '| test:', test_count)\n",
    "    total_train += train_count\n",
    "    total_test += test_count\n",
    "print('train samples:', total_train)\n",
    "print('test samples', total_test)"
   ]
  },
  {
   "cell_type": "code",
   "execution_count": 62,
   "metadata": {},
   "outputs": [
    {
     "name": "stdout",
     "output_type": "stream",
     "text": [
      "xemnhietdo\n"
     ]
    },
    {
     "name": "stderr",
     "output_type": "stream",
     "text": [
      "         1     -525483.9663             +nan\n",
      "         2     -494153.5987      +31330.3676\n",
      "         3     -486817.2167       +7336.3820\n",
      "         4     -484768.0558       +2049.1609\n",
      "         5     -484170.5599        +597.4960\n",
      "         6     -483966.1400        +204.4199\n",
      "         7     -483875.4998         +90.6402\n",
      "         8     -483834.2074         +41.2924\n",
      "         9     -483804.0591         +30.1483\n",
      "        10     -483786.2587         +17.8004\n",
      "        11     -483776.0003         +10.2584\n",
      "        12     -483765.9228         +10.0775\n",
      "        13     -483758.0728          +7.8500\n",
      "        14     -483751.6682          +6.4047\n",
      "        15     -483744.6848          +6.9834\n",
      "        16     -483735.9179          +8.7669\n",
      "        17     -483724.9052         +11.0127\n",
      "        18     -483715.2189          +9.6863\n",
      "        19     -483702.1514         +13.0675\n",
      "        20     -483688.7539         +13.3975\n",
      "        21     -483677.5780         +11.1759\n",
      "        22     -483666.8297         +10.7483\n",
      "        23     -483657.6740          +9.1556\n",
      "        24     -483636.2997         +21.3744\n",
      "        25     -483591.4856         +44.8141\n",
      "        26     -483548.0109         +43.4747\n",
      "        27     -483524.4272         +23.5838\n",
      "        28     -483513.4950         +10.9322\n",
      "        29     -483507.3901          +6.1049\n",
      "        30     -483505.0210          +2.3690\n",
      "        31     -483504.2167          +0.8044\n",
      "        32     -483503.9018          +0.3148\n",
      "        33     -483503.7553          +0.1465\n",
      "        34     -483503.6777          +0.0776\n",
      "        35     -483503.6321          +0.0456\n",
      "        36     -483503.6031          +0.0290\n",
      "        37     -483503.5835          +0.0196\n",
      "        38     -483503.5696          +0.0139\n",
      "        39     -483503.5595          +0.0101\n",
      "        40     -483503.5521          +0.0075\n"
     ]
    },
    {
     "name": "stdout",
     "output_type": "stream",
     "text": [
      "xemgio\n"
     ]
    },
    {
     "name": "stderr",
     "output_type": "stream",
     "text": [
      "         1     -436618.1870             +nan\n",
      "         2     -411617.9078      +25000.2792\n",
      "         3     -407469.1279       +4148.7800\n",
      "         4     -405989.6162       +1479.5117\n",
      "         5     -405519.0648        +470.5514\n",
      "         6     -405397.7056        +121.3593\n",
      "         7     -405364.9752         +32.7304\n",
      "         8     -405353.3265         +11.6487\n",
      "         9     -405347.3758          +5.9507\n",
      "        10     -405342.0558          +5.3200\n",
      "        11     -405335.7554          +6.3004\n",
      "        12     -405328.8771          +6.8783\n",
      "        13     -405322.4384          +6.4387\n",
      "        14     -405316.7896          +5.6488\n",
      "        15     -405311.6997          +5.0899\n",
      "        16     -405308.1466          +3.5531\n",
      "        17     -405305.2352          +2.9114\n",
      "        18     -405303.0012          +2.2340\n",
      "        19     -405301.6119          +1.3893\n",
      "        20     -405300.8229          +0.7890\n",
      "        21     -405300.3788          +0.4441\n",
      "        22     -405300.1240          +0.2547\n",
      "        23     -405299.9712          +0.1528\n",
      "        24     -405299.8698          +0.1014\n",
      "        25     -405299.7870          +0.0828\n",
      "        26     -405299.6917          +0.0953\n",
      "        27     -405299.5371          +0.1545\n",
      "        28     -405299.2641          +0.2730\n",
      "        29     -405298.9324          +0.3317\n",
      "        30     -405298.7301          +0.2023\n",
      "        31     -405298.6514          +0.0787\n",
      "        32     -405298.6225          +0.0289\n",
      "        33     -405298.6113          +0.0111\n",
      "        34     -405298.6070          +0.0044\n"
     ]
    },
    {
     "name": "stdout",
     "output_type": "stream",
     "text": [
      "xemngay\n"
     ]
    },
    {
     "name": "stderr",
     "output_type": "stream",
     "text": [
      "         1     -480595.5104             +nan\n",
      "         2     -454751.9617      +25843.5487\n",
      "         3     -449189.9711       +5561.9906\n",
      "         4     -446548.5040       +2641.4671\n",
      "         5     -444926.3375       +1622.1665\n",
      "         6     -443882.2910       +1044.0465\n",
      "         7     -443607.4713        +274.8197\n",
      "         8     -443530.5915         +76.8798\n",
      "         9     -443506.7405         +23.8510\n",
      "        10     -443486.2136         +20.5269\n",
      "        11     -443453.6274         +32.5861\n",
      "        12     -443440.2511         +13.3764\n",
      "        13     -443434.8144          +5.4366\n",
      "        14     -443429.7861          +5.0284\n",
      "        15     -443424.9047          +4.8814\n",
      "        16     -443420.2298          +4.6748\n",
      "        17     -443416.0011          +4.2288\n",
      "        18     -443413.8764          +2.1247\n",
      "        19     -443412.5752          +1.3012\n",
      "        20     -443411.7345          +0.8407\n",
      "        21     -443411.1548          +0.5797\n",
      "        22     -443410.6822          +0.4726\n",
      "        23     -443409.8813          +0.8008\n",
      "        24     -443406.2837          +3.5977\n",
      "        25     -443403.5970          +2.6867\n",
      "        26     -443402.7869          +0.8101\n",
      "        27     -443402.2753          +0.5116\n",
      "        28     -443401.8376          +0.4377\n",
      "        29     -443401.3889          +0.4487\n",
      "        30     -443400.8708          +0.5181\n",
      "        31     -443400.2792          +0.5916\n",
      "        32     -443399.6544          +0.6248\n",
      "        33     -443398.9015          +0.7529\n",
      "        34     -443397.8082          +1.0932\n",
      "        35     -443396.4763          +1.3319\n",
      "        36     -443394.9158          +1.5604\n",
      "        37     -443392.5742          +2.3416\n",
      "        38     -443389.6799          +2.8943\n",
      "        39     -443387.1106          +2.5693\n",
      "        40     -443385.2595          +1.8511\n",
      "        41     -443384.1393          +1.1202\n",
      "        42     -443383.5174          +0.6219\n",
      "        43     -443383.1759          +0.3415\n",
      "        44     -443382.9851          +0.1908\n",
      "        45     -443382.8757          +0.1093\n",
      "        46     -443382.8105          +0.0652\n",
      "        47     -443382.7674          +0.0431\n",
      "        48     -443382.7284          +0.0390\n",
      "        49     -443382.6475          +0.0809\n",
      "        50     -443382.0528          +0.5947\n",
      "        51     -443377.9510          +4.1018\n",
      "        52     -443376.2884          +1.6627\n",
      "        53     -443376.0091          +0.2793\n",
      "        54     -443375.8928          +0.1163\n",
      "        55     -443375.8336          +0.0592\n",
      "        56     -443375.8007          +0.0330\n",
      "        57     -443375.7815          +0.0192\n",
      "        58     -443375.7701          +0.0114\n",
      "        59     -443375.7632          +0.0069\n"
     ]
    },
    {
     "name": "stdout",
     "output_type": "stream",
     "text": [
      "xemthoitiet\n"
     ]
    },
    {
     "name": "stderr",
     "output_type": "stream",
     "text": [
      "         1     -506504.2714             +nan\n",
      "         2     -473307.6864      +33196.5850\n",
      "         3     -466567.8126       +6739.8738\n",
      "         4     -464617.4966       +1950.3160\n",
      "         5     -464204.3546        +413.1420\n",
      "         6     -464105.0494         +99.3051\n",
      "         7     -464065.6533         +39.3961\n",
      "         8     -464049.7275         +15.9258\n",
      "         9     -464029.2827         +20.4449\n",
      "        10     -464013.8642         +15.4184\n",
      "        11     -464000.1120         +13.7522\n",
      "        12     -463987.9890         +12.1230\n",
      "        13     -463976.2139         +11.7751\n",
      "        14     -463958.2179         +17.9960\n",
      "        15     -463932.1173         +26.1006\n",
      "        16     -463899.4186         +32.6988\n",
      "        17     -463884.0323         +15.3862\n",
      "        18     -463878.2785          +5.7539\n",
      "        19     -463873.0808          +5.1977\n",
      "        20     -463870.3885          +2.6923\n",
      "        21     -463869.3316          +1.0569\n",
      "        22     -463868.9057          +0.4259\n",
      "        23     -463868.8242          +0.0815\n",
      "        24     -463868.9523          -0.1281\n"
     ]
    },
    {
     "name": "stdout",
     "output_type": "stream",
     "text": [
      "tatden\n"
     ]
    },
    {
     "name": "stderr",
     "output_type": "stream",
     "text": [
      "         1     -456706.0775             +nan\n",
      "         2     -427416.0528      +29290.0246\n",
      "         3     -420746.2509       +6669.8019\n",
      "         4     -418317.1237       +2429.1272\n",
      "         5     -417510.3495        +806.7742\n",
      "         6     -417392.5217        +117.8278\n",
      "         7     -417357.3282         +35.1935\n",
      "         8     -417331.0087         +26.3195\n",
      "         9     -417305.2194         +25.7892\n",
      "        10     -417293.8844         +11.3350\n",
      "        11     -417284.5556          +9.3288\n",
      "        12     -417270.6725         +13.8831\n",
      "        13     -417256.4935         +14.1790\n",
      "        14     -417248.9391          +7.5544\n",
      "        15     -417243.3047          +5.6344\n",
      "        16     -417239.4113          +3.8934\n",
      "        17     -417238.9522          +0.4591\n",
      "        18     -417237.0517          +1.9005\n",
      "        19     -417233.5282          +3.5235\n",
      "        20     -417231.9237          +1.6045\n",
      "        21     -417231.7179          +0.2057\n",
      "        22     -417231.7760          -0.0581\n"
     ]
    },
    {
     "name": "stdout",
     "output_type": "stream",
     "text": [
      "batden\n"
     ]
    },
    {
     "name": "stderr",
     "output_type": "stream",
     "text": [
      "         1     -461581.3192             +nan\n",
      "         2     -432495.1010      +29086.2182\n",
      "         3     -425773.6182       +6721.4829\n",
      "         4     -423510.2371       +2263.3810\n",
      "         5     -422895.3246        +614.9125\n",
      "         6     -422740.9522        +154.3725\n",
      "         7     -422687.0331         +53.9191\n",
      "         8     -422661.4479         +25.5852\n",
      "         9     -422651.9781          +9.4697\n",
      "        10     -422646.4321          +5.5460\n",
      "        11     -422636.9763          +9.4559\n",
      "        12     -422609.8269         +27.1494\n",
      "        13     -422594.7705         +15.0564\n",
      "        14     -422587.8334          +6.9371\n",
      "        15     -422582.1429          +5.6905\n",
      "        16     -422579.4023          +2.7406\n",
      "        17     -422578.5901          +0.8122\n",
      "        18     -422578.3102          +0.2800\n",
      "        19     -422578.1901          +0.1201\n",
      "        20     -422578.1308          +0.0593\n",
      "        21     -422578.0980          +0.0328\n",
      "        22     -422578.0782          +0.0199\n",
      "        23     -422578.0652          +0.0130\n",
      "        24     -422578.0562          +0.0090\n"
     ]
    },
    {
     "name": "stdout",
     "output_type": "stream",
     "text": [
      "tatquat\n"
     ]
    },
    {
     "name": "stderr",
     "output_type": "stream",
     "text": [
      "         1     -435568.4812             +nan\n",
      "         2     -408222.8049      +27345.6763\n",
      "         3     -401952.2182       +6270.5866\n",
      "         4     -400244.3511       +1707.8671\n",
      "         5     -399858.0406        +386.3105\n",
      "         6     -399735.6438        +122.3969\n",
      "         7     -399672.0805         +63.5633\n",
      "         8     -399605.1871         +66.8934\n",
      "         9     -399530.3864         +74.8007\n",
      "        10     -399464.6498         +65.7367\n",
      "        11     -399417.6708         +46.9789\n",
      "        12     -399381.4556         +36.2153\n",
      "        13     -399359.6443         +21.8113\n",
      "        14     -399349.3625         +10.2818\n",
      "        15     -399343.5171          +5.8454\n",
      "        16     -399337.5123          +6.0048\n",
      "        17     -399323.1980         +14.3144\n",
      "        18     -399304.0369         +19.1611\n",
      "        19     -399295.9469          +8.0900\n",
      "        20     -399292.5107          +3.4362\n",
      "        21     -399290.4398          +2.0709\n",
      "        22     -399289.4888          +0.9510\n",
      "        23     -399290.1734          -0.6846\n"
     ]
    },
    {
     "name": "stdout",
     "output_type": "stream",
     "text": [
      "batquat\n"
     ]
    },
    {
     "name": "stderr",
     "output_type": "stream",
     "text": [
      "         1     -452466.2939             +nan\n",
      "         2     -428298.5126      +24167.7814\n",
      "         3     -421233.7401       +7064.7725\n",
      "         4     -418374.6826       +2859.0575\n",
      "         5     -417545.7999        +828.8826\n",
      "         6     -417323.5154        +222.2845\n",
      "         7     -417231.3267         +92.1887\n",
      "         8     -417187.2877         +44.0390\n",
      "         9     -417162.6027         +24.6850\n",
      "        10     -417144.3997         +18.2030\n",
      "        11     -417128.7368         +15.6629\n",
      "        12     -417115.4567         +13.2801\n",
      "        13     -417097.4208         +18.0359\n",
      "        14     -417072.4999         +24.9210\n",
      "        15     -417045.5857         +26.9142\n",
      "        16     -417024.5320         +21.0537\n",
      "        17     -417008.0885         +16.4436\n",
      "        18     -416995.6092         +12.4793\n",
      "        19     -416987.1776          +8.4316\n",
      "        20     -416981.1031          +6.0745\n",
      "        21     -416976.5319          +4.5712\n",
      "        22     -416973.1385          +3.3934\n",
      "        23     -416970.6737          +2.4648\n",
      "        24     -416968.8359          +1.8378\n",
      "        25     -416967.3853          +1.4506\n",
      "        26     -416966.2056          +1.1797\n",
      "        27     -416965.2554          +0.9501\n",
      "        28     -416964.4932          +0.7622\n",
      "        29     -416963.8685          +0.6247\n",
      "        30     -416963.3412          +0.5273\n",
      "        31     -416962.8846          +0.4566\n",
      "        32     -416962.4821          +0.4025\n",
      "        33     -416962.1270          +0.3551\n",
      "        34     -416961.8275          +0.2995\n",
      "        35     -416961.6089          +0.2186\n",
      "        36     -416961.4928          +0.1161\n",
      "        37     -416961.4714          +0.0213\n",
      "        38     -416961.5213          -0.0499\n"
     ]
    },
    {
     "name": "stdout",
     "output_type": "stream",
     "text": [
      "tatnhac\n"
     ]
    },
    {
     "name": "stderr",
     "output_type": "stream",
     "text": [
      "         1     -449856.8902             +nan\n",
      "         2     -420689.8480      +29167.0422\n",
      "         3     -413554.2476       +7135.6005\n",
      "         4     -411400.0314       +2154.2162\n",
      "         5     -410934.8837        +465.1477\n",
      "         6     -410765.2867        +169.5970\n",
      "         7     -410694.1699         +71.1168\n",
      "         8     -410660.8275         +33.3424\n",
      "         9     -410644.1580         +16.6695\n",
      "        10     -410636.0743          +8.0837\n",
      "        11     -410631.2024          +4.8719\n",
      "        12     -410628.2649          +2.9376\n",
      "        13     -410626.4231          +1.8418\n",
      "        14     -410625.2275          +1.1955\n",
      "        15     -410624.6981          +0.5295\n",
      "        16     -410624.4551          +0.2430\n",
      "        17     -410624.3566          +0.0985\n",
      "        18     -410624.3360          +0.0205\n",
      "        19     -410624.3640          -0.0280\n"
     ]
    },
    {
     "name": "stdout",
     "output_type": "stream",
     "text": [
      "batnhac\n"
     ]
    },
    {
     "name": "stderr",
     "output_type": "stream",
     "text": [
      "         1     -456862.5132             +nan\n",
      "         2     -429542.2592      +27320.2539\n",
      "         3     -423505.7469       +6036.5123\n",
      "         4     -421506.5924       +1999.1544\n",
      "         5     -420623.0802        +883.5123\n",
      "         6     -420100.0930        +522.9871\n",
      "         7     -419754.8396        +345.2535\n",
      "         8     -419637.9652        +116.8743\n",
      "         9     -419592.0988         +45.8664\n",
      "        10     -419562.5027         +29.5961\n",
      "        11     -419527.8331         +34.6696\n",
      "        12     -419491.1267         +36.7064\n",
      "        13     -419440.8424         +50.2843\n",
      "        14     -419363.8900         +76.9524\n",
      "        15     -419305.9809         +57.9091\n",
      "        16     -419280.1674         +25.8135\n",
      "        17     -419269.5760         +10.5914\n",
      "        18     -419263.1265          +6.4494\n",
      "        19     -419258.3219          +4.8047\n",
      "        20     -419254.2144          +4.1075\n",
      "        21     -419249.5538          +4.6605\n",
      "        22     -419242.9313          +6.6225\n",
      "        23     -419236.8962          +6.0351\n",
      "        24     -419231.3162          +5.5800\n",
      "        25     -419224.9709          +6.3453\n",
      "        26     -419216.4289          +8.5420\n",
      "        27     -419205.6199         +10.8090\n",
      "        28     -419197.5212          +8.0987\n",
      "        29     -419192.5825          +4.9387\n",
      "        30     -419189.1403          +3.4422\n",
      "        31     -419186.0376          +3.1027\n",
      "        32     -419182.7132          +3.3244\n",
      "        33     -419180.1249          +2.5884\n",
      "        34     -419178.8138          +1.3111\n",
      "        35     -419178.1439          +0.6698\n",
      "        36     -419177.7317          +0.4123\n",
      "        37     -419177.4280          +0.3036\n",
      "        38     -419177.1695          +0.2585\n",
      "        39     -419176.9220          +0.2475\n",
      "        40     -419176.6620          +0.2599\n",
      "        41     -419176.3713          +0.2908\n",
      "        42     -419176.0357          +0.3356\n",
      "        43     -419175.6460          +0.3897\n",
      "        44     -419175.1944          +0.4515\n",
      "        45     -419174.6682          +0.5263\n",
      "        46     -419174.0408          +0.6274\n",
      "        47     -419173.2637          +0.7771\n",
      "        48     -419172.2516          +1.0121\n",
      "        49     -419170.8536          +1.3981\n",
      "        50     -419168.7970          +2.0566\n",
      "        51     -419165.5983          +3.1987\n",
      "        52     -419160.4338          +5.1645\n",
      "        53     -419151.7851          +8.6487\n",
      "        54     -419139.0655         +12.7197\n",
      "        55     -419128.2941         +10.7713\n",
      "        56     -419122.6738          +5.6203\n",
      "        57     -419120.0634          +2.6104\n",
      "        58     -419119.1140          +0.9494\n",
      "        59     -419119.5665          -0.4525\n"
     ]
    }
   ],
   "source": [
    "for idx, cname in enumerate(class_names):\n",
    "    start_prob = np.full(states[idx], 0.0)\n",
    "    start_prob[0] = 1.0\n",
    "    trans_matrix = np.full((states[idx], states[idx]), 0.0)\n",
    "    p = 0.5\n",
    "    np.fill_diagonal(trans_matrix, p)\n",
    "    np.fill_diagonal(trans_matrix[0:, 1:], 1 - p)\n",
    "    trans_matrix[-1, -1] = 1.0\n",
    "    # trans matrix\n",
    "    print(cname)\n",
    "\n",
    "    model[cname] = hmm.GaussianHMM(\n",
    "        n_components=states[idx],\n",
    "        verbose=True,\n",
    "        n_iter=300,\n",
    "        startprob_prior=start_prob,\n",
    "        transmat_prior=trans_matrix,\n",
    "        params='stmc',\n",
    "        init_params='mc',\n",
    "        random_state=42\n",
    "    )\n",
    "    model[cname].fit(X=np.vstack(X['train'][cname]),\n",
    "                            lengths=[x.shape[0] for x in X['train'][cname]])"
   ]
  },
  {
   "cell_type": "code",
   "execution_count": 63,
   "metadata": {},
   "outputs": [],
   "source": [
    "for cname in class_names:\n",
    "    name = f'{model_path}/model_{cname}.pkl'\n",
    "    with open(name, 'wb') as file:\n",
    "        pickle.dump(model[cname], file)"
   ]
  },
  {
   "cell_type": "code",
   "execution_count": 64,
   "metadata": {},
   "outputs": [
    {
     "name": "stdout",
     "output_type": "stream",
     "text": [
      "xemnhietdo: 0.64\n",
      "xemgio: 0.48\n",
      "xemngay: 0.5333333333333333\n",
      "xemthoitiet: 0.61\n",
      "tatden: 0.576\n",
      "batden: 0.56\n",
      "tatquat: 0.52\n",
      "batquat: 0.505\n",
      "tatnhac: 0.5111111111111111\n",
      "batnhac: 0.532\n",
      "======\n",
      "Confusion matrix:\n",
      "[[16  4  3  2  0  0  0  0  0  0]\n",
      " [ 2  8  0 11  2  1  0  0  0  1]\n",
      " [ 0  1 16  6  0  1  0  0  0  1]\n",
      " [ 0  2  2 21  0  0  0  0  0  0]\n",
      " [ 0  0  1  0 11  2  0  6  0  5]\n",
      " [ 0  5  0  2  1 12  0  1  0  4]\n",
      " [ 0  0  0  0  0  0  7  8 10  0]\n",
      " [ 0  0  0  0  1  0  1 10  9  4]\n",
      " [ 0  0  1  0  0  0  0  5 14  5]\n",
      " [ 0  1  0  1  1  0  0  3  1 18]]\n"
     ]
    }
   ],
   "source": [
    "y_true = []\n",
    "y_pred = []\n",
    "for cname in class_names:\n",
    "    for mfcc, target in zip(X['test'][cname], Y['test'][cname]):\n",
    "        scores = [model[cname].score(mfcc) for cname in class_names]\n",
    "        pred = np.argmax(scores)\n",
    "        y_pred.append(pred)\n",
    "        y_true.append(target)\n",
    "    print(f'{cname}:', (np.array(y_true) == np.array(y_pred)).sum() / len(y_true))\n",
    "print('======')\n",
    "print('Confusion matrix:')\n",
    "print(confusion_matrix(y_true, y_pred))"
   ]
  },
  {
   "cell_type": "markdown",
   "metadata": {},
   "source": [
    "Train with full dataset"
   ]
  },
  {
   "cell_type": "code",
   "execution_count": 22,
   "metadata": {},
   "outputs": [
    {
     "name": "stdout",
     "output_type": "stream",
     "text": [
      "xemnhietdo 60\n",
      "xemgio 60\n",
      "xemngay 60\n",
      "xemgio 60\n",
      "tat 60\n",
      "bat 60\n",
      "quat 60\n",
      "nhac 60\n",
      "den 60\n"
     ]
    }
   ],
   "source": [
    "finalX = {}\n",
    "for cname in class_names:\n",
    "    finalX[cname] = X['test'][cname] + X['train'][cname]\n",
    "    print(cname,len(finalX[cname]))"
   ]
  },
  {
   "cell_type": "code",
   "execution_count": null,
   "metadata": {},
   "outputs": [],
   "source": [
    "for idx, cname in enumerate(class_names):\n",
    "    start_prob = np.full(states, 0.0)\n",
    "    trans_matrix = np.full((states, states), 0.0)\n",
    "    p = 0.5\n",
    "    np.fill_diagonal(trans_matrix, p)\n",
    "    np.fill_diagonal(trans_matrix[0:, 1:], 1 - p)\n",
    "    trans_matrix[-1, -1] = 1.0\n",
    "\n",
    "    # trans matrix\n",
    "    print(cname)\n",
    "    # print(trans_matrix)\n",
    "\n",
    "    model[cname] = hmm.GaussianHMM(\n",
    "        n_components=states,\n",
    "        verbose=True,\n",
    "        n_iter=300,\n",
    "        startprob_prior=start_prob,\n",
    "        transmat_prior=trans_matrix,\n",
    "        params='stmc',\n",
    "        init_params='mc',\n",
    "        random_state=42\n",
    "    )\n",
    "    model[cname].fit(X=np.vstack(finalX[cname]),\n",
    "        lengths=[x.shape[0] for x in finalX[cname]])"
   ]
  },
  {
   "cell_type": "code",
   "execution_count": 24,
   "metadata": {},
   "outputs": [],
   "source": [
    "for cname in class_names:\n",
    "    name = f'{model_path}/model_{cname}.pkl'\n",
    "    with open(name, 'wb') as file:\n",
    "        pickle.dump(model[cname], file)"
   ]
  },
  {
   "cell_type": "markdown",
   "metadata": {},
   "source": [
    "Test with new random wav file"
   ]
  },
  {
   "cell_type": "code",
   "execution_count": 77,
   "metadata": {},
   "outputs": [
    {
     "name": "stdout",
     "output_type": "stream",
     "text": [
      "Input: xemngay.wav\n",
      "score: [-4854.188538714205, -4822.473777114951, -4923.192492845547, -4804.489042371499, -5130.463648381897, -5073.942404860141, -5413.492933637798, -5516.447391855644, -5132.017922592878, -5155.8324796599545]\n",
      "Class_name: ['xemnhietdo', 'xemgio', 'xemngay', 'xemthoitiet', 'tatden', 'batden', 'tatquat', 'batquat', 'tatnhac', 'batnhac']\n",
      "Output: xemthoitiet\n"
     ]
    }
   ],
   "source": [
    "test_file_name = 'xemngay.wav'\n",
    "test_file_path = 'datasets/random_test_audio/'\n",
    "test_mfcc = get_mfcc(test_file_path+test_file_name)\n",
    "scores = [model[cname].score(test_mfcc) for cname in class_names]\n",
    "\n",
    "print(\"Input:\",test_file_name)\n",
    "print(\"score:\",scores)\n",
    "print('Class_name:',class_names)\n",
    "print(\"Output:\",class_names[np.argmax(scores)])"
   ]
  },
  {
   "cell_type": "code",
   "execution_count": 92,
   "metadata": {},
   "outputs": [
    {
     "data": {
      "text/plain": [
       "array([[0.91020378, 0.        , 0.        , 0.        , 0.08500456,\n",
       "        0.        , 0.00479167],\n",
       "       [0.        , 1.        , 0.        , 0.        , 0.        ,\n",
       "        0.        , 0.        ],\n",
       "       [0.        , 0.034725  , 0.89493378, 0.        , 0.        ,\n",
       "        0.        , 0.07034123],\n",
       "       [0.        , 0.        , 0.        , 0.98654232, 0.        ,\n",
       "        0.01345768, 0.        ],\n",
       "       [0.04146354, 0.        , 0.15466062, 0.        , 0.80387584,\n",
       "        0.        , 0.        ],\n",
       "       [0.        , 0.        , 0.        , 0.        , 0.16248435,\n",
       "        0.83751565, 0.        ],\n",
       "       [0.03870414, 0.        , 0.        , 0.03763044, 0.        ,\n",
       "        0.        , 0.92366542]])"
      ]
     },
     "execution_count": 92,
     "metadata": {},
     "output_type": "execute_result"
    }
   ],
   "source": [
    "model['xemgio'].transmat_"
   ]
  },
  {
   "cell_type": "code",
   "execution_count": 91,
   "metadata": {},
   "outputs": [
    {
     "data": {
      "text/plain": [
       "array([4.19839370e-117, 0.00000000e+000, 0.00000000e+000, 7.89717484e-002,\n",
       "       0.00000000e+000, 9.21028252e-001, 0.00000000e+000])"
      ]
     },
     "execution_count": 91,
     "metadata": {},
     "output_type": "execute_result"
    }
   ],
   "source": [
    "model['xemgio'].startprob_"
   ]
  },
  {
   "cell_type": "code",
   "execution_count": 16,
   "metadata": {},
   "outputs": [
    {
     "name": "stdout",
     "output_type": "stream",
     "text": [
      "22050\n"
     ]
    }
   ],
   "source": [
    "import librosa\n",
    "y, sr = librosa.load('datasets/train_audio/bat/Open1.wav')  # read .wav file\n",
    "print(sr)"
   ]
  },
  {
   "cell_type": "code",
   "execution_count": 24,
   "metadata": {},
   "outputs": [
    {
     "data": {
      "text/plain": [
       "-3806.9000670368246"
      ]
     },
     "execution_count": 24,
     "metadata": {},
     "output_type": "execute_result"
    }
   ],
   "source": [
    "# with open('model/model_bat.pkl','rb') as file:\n",
    "#     p = pickle.load(file)"
   ]
  }
 ],
 "metadata": {
  "interpreter": {
   "hash": "df95319d8ce4e1d89f5365ae10992bc1f65da593082b1d264e8f529830ec2f02"
  },
  "kernelspec": {
   "display_name": "Python 3.10.2 64-bit",
   "language": "python",
   "name": "python3"
  },
  "language_info": {
   "codemirror_mode": {
    "name": "ipython",
    "version": 3
   },
   "file_extension": ".py",
   "mimetype": "text/x-python",
   "name": "python",
   "nbconvert_exporter": "python",
   "pygments_lexer": "ipython3",
   "version": "3.10.2"
  },
  "orig_nbformat": 4
 },
 "nbformat": 4,
 "nbformat_minor": 2
}
