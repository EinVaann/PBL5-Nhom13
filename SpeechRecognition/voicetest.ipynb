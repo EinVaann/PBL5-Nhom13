{
 "cells": [
  {
   "cell_type": "code",
   "execution_count": 1,
   "metadata": {},
   "outputs": [],
   "source": [
    "import math\n",
    "\n",
    "import librosa\n",
    "import numpy as np\n",
    "\n",
    "def get_mfcc(file_path):\n",
    "    y, sr = librosa.load(file_path)  # read .wav file\n",
    "    hop_length = math.floor(sr * 0.010)  # 10ms hop\n",
    "    win_length = math.floor(sr * 0.025)  # 25ms frame\n",
    "    # mfcc is 12 x T matrix\n",
    "    mfcc = librosa.feature.mfcc(\n",
    "        y=y, sr=sr, n_mfcc=12, n_fft=1024,\n",
    "        hop_length=hop_length, win_length=win_length)\n",
    "    # subtract mean from mfcc --> normalize mfcc\n",
    "    mfcc = mfcc - np.mean(mfcc, axis=1).reshape((-1, 1))\n",
    "    # delta feature 1st order and 2nd order\n",
    "    delta1 = librosa.feature.delta(mfcc, order=1)\n",
    "    delta2 = librosa.feature.delta(mfcc, order=2)\n",
    "    # X is 36 x T\n",
    "    X = np.concatenate([mfcc, delta1, delta2], axis=0) \n",
    "    # return T x 36 (transpose of X)\n",
    "    return X.T  # hmmlearn use T x N matrix"
   ]
  },
  {
   "cell_type": "code",
   "execution_count": 2,
   "metadata": {},
   "outputs": [],
   "source": [
    "import os\n",
    "import pickle\n",
    "\n",
    "import hmmlearn.hmm as hmm\n",
    "import numpy as np\n",
    "from sklearn.model_selection import train_test_split\n",
    "from sklearn.metrics import confusion_matrix"
   ]
  },
  {
   "cell_type": "code",
   "execution_count": 26,
   "metadata": {},
   "outputs": [],
   "source": [
    "class_names = ['xemnhietdo', 'xemgio','xemngay']\n",
    "states = [8,8,8]\n",
    "dataset_path = 'datasets/train_audio'"
   ]
  },
  {
   "cell_type": "code",
   "execution_count": 27,
   "metadata": {},
   "outputs": [],
   "source": [
    "X = {'train': {}, 'test': {}}\n",
    "y = {'train': {}, 'test': {}}\n",
    "\n",
    "model = {}\n",
    "model_path = 'model'"
   ]
  },
  {
   "cell_type": "code",
   "execution_count": 47,
   "metadata": {},
   "outputs": [
    {
     "name": "stdout",
     "output_type": "stream",
     "text": [
      "Total samples: 150\n"
     ]
    }
   ],
   "source": [
    "length = 0\n",
    "for cname in class_names:\n",
    "    length += len(os.listdir(f\"{dataset_path}/{cname}\"))\n",
    "print('Total samples:', length)\n",
    "\n",
    "all_data = {}\n",
    "all_labels = {}\n",
    "for cname in class_names:\n",
    "    file_paths = [os.path.join(dataset_path, cname, i) for i in os.listdir(\n",
    "        os.path.join(dataset_path, cname)) if i.endswith('.wav')]\n",
    "    data = [get_mfcc(file_path) for file_path in file_paths]\n",
    "    all_data[cname] = data\n",
    "    all_labels[cname] = [class_names.index(cname) for _ in range(len(file_paths))]\n",
    "\n",
    "for cname in class_names:\n",
    "    x_train, x_test, y_train, y_test = train_test_split(\n",
    "        all_data[cname], all_labels[cname],\n",
    "        test_size=0.33,\n",
    "        random_state=42\n",
    "    )\n",
    "\n",
    "    X['train'][cname] = x_train\n",
    "    X['test'][cname] = x_test\n",
    "    y['test'][cname] = y_test"
   ]
  },
  {
   "cell_type": "code",
   "execution_count": 48,
   "metadata": {},
   "outputs": [
    {
     "name": "stdout",
     "output_type": "stream",
     "text": [
      "xemnhietdo train: 40 | test: 20\n",
      "xemgio train: 40 | test: 20\n",
      "xemngay train: 20 | test: 10\n",
      "train samples: 100\n",
      "test samples 50\n"
     ]
    }
   ],
   "source": [
    "total_train = 0\n",
    "total_test = 0\n",
    "for cname in class_names:\n",
    "    train_count = len(X['train'][cname])\n",
    "    test_count = len(X['test'][cname])\n",
    "    print(cname, 'train:', train_count, '| test:', test_count)\n",
    "    total_train += train_count\n",
    "    total_test += test_count\n",
    "print('train samples:', total_train)\n",
    "print('test samples', total_test)"
   ]
  },
  {
   "cell_type": "code",
   "execution_count": 49,
   "metadata": {},
   "outputs": [
    {
     "name": "stdout",
     "output_type": "stream",
     "text": [
      "xemnhietdo\n"
     ]
    },
    {
     "name": "stderr",
     "output_type": "stream",
     "text": [
      "         1     -514888.8175             +nan\n",
      "         2     -481085.4775      +33803.3400\n",
      "         3     -470865.5855      +10219.8920\n",
      "         4     -469045.9265       +1819.6591\n",
      "         5     -468635.6235        +410.3029\n",
      "         6     -468384.3563        +251.2672\n",
      "         7     -468058.1726        +326.1838\n",
      "         8     -467960.9868         +97.1858\n",
      "         9     -467935.8158         +25.1710\n",
      "        10     -467929.3347          +6.4811\n",
      "        11     -467922.0830          +7.2517\n",
      "        12     -467919.1689          +2.9141\n",
      "        13     -467918.6273          +0.5416\n",
      "        14     -467919.8381          -1.2108\n"
     ]
    },
    {
     "name": "stdout",
     "output_type": "stream",
     "text": [
      "xemgio\n"
     ]
    },
    {
     "name": "stderr",
     "output_type": "stream",
     "text": [
      "         1     -314000.8162             +nan\n",
      "         2     -292342.3004      +21658.5158\n",
      "         3     -289176.3830       +3165.9174\n",
      "         4     -288369.2197        +807.1633\n",
      "         5     -287952.3034        +416.9163\n",
      "         6     -287537.2424        +415.0611\n",
      "         7     -287081.2171        +456.0252\n",
      "         8     -286729.9543        +351.2629\n",
      "         9     -286667.1348         +62.8195\n",
      "        10     -286638.0752         +29.0596\n",
      "        11     -286620.4595         +17.6157\n",
      "        12     -286611.7289          +8.7306\n",
      "        13     -286606.6926          +5.0362\n",
      "        14     -286603.1139          +3.5788\n",
      "        15     -286600.5057          +2.6082\n",
      "        16     -286598.5590          +1.9467\n",
      "        17     -286597.1130          +1.4459\n",
      "        18     -286596.1295          +0.9836\n",
      "        19     -286595.5085          +0.6209\n",
      "        20     -286595.1561          +0.3525\n",
      "        21     -286594.9659          +0.1902\n",
      "        22     -286594.8560          +0.1099\n",
      "        23     -286594.7869          +0.0691\n",
      "        24     -286594.7408          +0.0460\n",
      "        25     -286594.7089          +0.0319\n",
      "        26     -286594.6858          +0.0231\n",
      "        27     -286594.6684          +0.0174\n",
      "        28     -286594.6546          +0.0138\n",
      "        29     -286594.6430          +0.0115\n",
      "        30     -286594.6330          +0.0101\n",
      "        31     -286594.6238          +0.0092\n"
     ]
    },
    {
     "name": "stdout",
     "output_type": "stream",
     "text": [
      "xemngay\n"
     ]
    },
    {
     "name": "stderr",
     "output_type": "stream",
     "text": [
      "         1     -100796.2038             +nan\n",
      "         2      -92175.4194       +8620.7845\n",
      "         3      -91812.9508        +362.4685\n",
      "         4      -91726.8593         +86.0916\n",
      "         5      -91622.7345        +104.1247\n",
      "         6      -91542.3272         +80.4074\n",
      "         7      -91508.2510         +34.0762\n",
      "         8      -91493.7033         +14.5477\n",
      "         9      -91484.3756          +9.3277\n",
      "        10      -91480.2522          +4.1233\n",
      "        11      -91476.2124          +4.0398\n",
      "        12      -91468.2915          +7.9209\n",
      "        13      -91454.9497         +13.3418\n",
      "        14      -91442.7652         +12.1845\n",
      "        15      -91427.0743         +15.6909\n",
      "        16      -91414.7586         +12.3157\n",
      "        17      -91401.5562         +13.2023\n",
      "        18      -91392.2485          +9.3078\n",
      "        19      -91385.6382          +6.6103\n",
      "        20      -91380.6737          +4.9645\n",
      "        21      -91377.9124          +2.7613\n",
      "        22      -91376.2074          +1.7050\n",
      "        23      -91374.9732          +1.2342\n",
      "        24      -91373.9781          +0.9951\n",
      "        25      -91372.9940          +0.9841\n",
      "        26      -91371.4077          +1.5863\n",
      "        27      -91370.0432          +1.3645\n",
      "        28      -91369.4261          +0.6171\n",
      "        29      -91369.0804          +0.3456\n",
      "        30      -91368.8138          +0.2666\n",
      "        31      -91368.0601          +0.7537\n",
      "        32      -91360.7377          +7.3224\n",
      "        33      -91357.2651          +3.4726\n",
      "        34      -91356.8234          +0.4417\n",
      "        35      -91356.6383          +0.1851\n",
      "        36      -91356.5509          +0.0874\n",
      "        37      -91356.5082          +0.0427\n",
      "        38      -91356.4871          +0.0210\n",
      "        39      -91356.4768          +0.0103\n",
      "        40      -91356.4718          +0.0050\n"
     ]
    }
   ],
   "source": [
    "for idx, cname in enumerate(class_names):\n",
    "    start_prob = np.full(states[idx], 0.0)\n",
    "    start_prob[0] = 1.0\n",
    "    trans_matrix = np.full((states[idx], states[idx]), 0.0)\n",
    "    p = 0.5\n",
    "    np.fill_diagonal(trans_matrix, p)\n",
    "    np.fill_diagonal(trans_matrix[0:, 1:], 1 - p)\n",
    "    trans_matrix[-1, -1] = 1.0\n",
    "\n",
    "    # trans matrix\n",
    "    print(cname)\n",
    "\n",
    "    model[cname] = hmm.GaussianHMM(\n",
    "        n_components=states[idx],\n",
    "        verbose=True,\n",
    "        n_iter=300,\n",
    "        startprob_prior=start_prob,\n",
    "        transmat_prior=trans_matrix,\n",
    "        params='stmc',\n",
    "        init_params='mc',\n",
    "        random_state=42\n",
    "    )\n",
    "    model[cname].fit(X=np.vstack(X['train'][cname]),\n",
    "                            lengths=[x.shape[0] for x in X['train'][cname]])"
   ]
  },
  {
   "cell_type": "code",
   "execution_count": 50,
   "metadata": {},
   "outputs": [],
   "source": [
    "for cname in class_names:\n",
    "    name = f'{model_path}/model_{cname}.pkl'\n",
    "    with open(name, 'wb') as file:\n",
    "        pickle.dump(model[cname], file)"
   ]
  },
  {
   "cell_type": "code",
   "execution_count": 51,
   "metadata": {},
   "outputs": [
    {
     "name": "stdout",
     "output_type": "stream",
     "text": [
      "====== Evaluation ======\n",
      "xemnhietdo: 1.0\n",
      "xemgio: 1.0\n",
      "xemngay: 0.98\n",
      "======\n",
      "Confusion matrix:\n",
      "[[20  0  0]\n",
      " [ 0 20  0]\n",
      " [ 0  1  9]]\n"
     ]
    }
   ],
   "source": [
    "print('====== Evaluation ======')\n",
    "y_true = []\n",
    "y_pred = []\n",
    "for cname in class_names:\n",
    "    for mfcc, target in zip(X['test'][cname], y['test'][cname]):\n",
    "        scores = [model[cname].score(mfcc) for cname in class_names]\n",
    "        pred = np.argmax(scores)\n",
    "        y_pred.append(pred)\n",
    "        y_true.append(target)\n",
    "    print(f'{cname}:', (np.array(y_true) == np.array(y_pred)).sum() / len(y_true))\n",
    "print('======')\n",
    "print('Confusion matrix:')\n",
    "print(confusion_matrix(y_true, y_pred))"
   ]
  },
  {
   "cell_type": "markdown",
   "metadata": {},
   "source": [
    "Train with full dataset"
   ]
  },
  {
   "cell_type": "code",
   "execution_count": 33,
   "metadata": {},
   "outputs": [
    {
     "name": "stdout",
     "output_type": "stream",
     "text": [
      "xemnhietdo 50\n",
      "xemgio 60\n",
      "xemngay 30\n"
     ]
    }
   ],
   "source": [
    "finalX = {}\n",
    "for cname in class_names:\n",
    "    finalX[cname] = X['test'][cname] + X['train'][cname]\n",
    "    print(cname,len(finalX[cname]))"
   ]
  },
  {
   "cell_type": "code",
   "execution_count": 34,
   "metadata": {},
   "outputs": [
    {
     "name": "stdout",
     "output_type": "stream",
     "text": [
      "xemnhietdo\n"
     ]
    },
    {
     "name": "stderr",
     "output_type": "stream",
     "text": [
      "         1     -689212.9467             +nan\n",
      "         2     -637646.8510      +51566.0957\n",
      "         3     -628314.4702       +9332.3808\n",
      "         4     -625918.5079       +2395.9623\n",
      "         5     -625109.7998        +808.7081\n",
      "         6     -624498.7140        +611.0858\n",
      "         7     -624011.1391        +487.5749\n",
      "         8     -623489.2560        +521.8831\n",
      "         9     -623035.0764        +454.1796\n",
      "        10     -622625.5727        +409.5037\n",
      "        11     -622356.9391        +268.6336\n",
      "        12     -622186.0971        +170.8420\n",
      "        13     -622067.2228        +118.8743\n",
      "        14     -621966.7296        +100.4932\n",
      "        15     -621861.2897        +105.4399\n",
      "        16     -621766.8622         +94.4276\n",
      "        17     -621677.9996         +88.8625\n",
      "        18     -621592.7956         +85.2040\n",
      "        19     -621537.5157         +55.2800\n",
      "        20     -621494.9461         +42.5696\n",
      "        21     -621445.7300         +49.2161\n",
      "        22     -621400.1595         +45.5705\n",
      "        23     -621365.4066         +34.7529\n",
      "        24     -621333.2818         +32.1248\n",
      "        25     -621299.9393         +33.3425\n",
      "        26     -621269.8034         +30.1359\n",
      "        27     -621244.7897         +25.0137\n",
      "        28     -621221.8529         +22.9368\n",
      "        29     -621201.2750         +20.5779\n",
      "        30     -621183.2931         +17.9819\n",
      "        31     -621163.7245         +19.5686\n",
      "        32     -621139.5199         +24.2046\n",
      "        33     -621117.3506         +22.1693\n",
      "        34     -621101.6834         +15.6671\n",
      "        35     -621081.0674         +20.6161\n",
      "        36     -621040.5463         +40.5211\n",
      "        37     -620988.0378         +52.5085\n",
      "        38     -620965.7502         +22.2876\n",
      "        39     -620952.0990         +13.6511\n",
      "        40     -620943.2838          +8.8153\n",
      "        41     -620937.5165          +5.7672\n",
      "        42     -620934.3970          +3.1196\n",
      "        43     -620932.4293          +1.9677\n",
      "        44     -620930.8493          +1.5800\n",
      "        45     -620929.4056          +1.4437\n",
      "        46     -620928.1788          +1.2268\n",
      "        47     -620927.1827          +0.9960\n",
      "        48     -620926.3622          +0.8206\n",
      "        49     -620925.7006          +0.6616\n",
      "        50     -620925.2004          +0.5002\n",
      "        51     -620924.8416          +0.3588\n",
      "        52     -620924.5888          +0.2528\n",
      "        53     -620924.4115          +0.1774\n",
      "        54     -620924.2879          +0.1235\n",
      "        55     -620924.2029          +0.0850\n",
      "        56     -620924.1449          +0.0579\n",
      "        57     -620924.1057          +0.0392\n",
      "        58     -620924.0793          +0.0264\n",
      "        59     -620924.0615          +0.0178\n",
      "        60     -620924.0496          +0.0119\n",
      "        61     -620924.0416          +0.0080\n"
     ]
    },
    {
     "name": "stdout",
     "output_type": "stream",
     "text": [
      "xemgio\n"
     ]
    },
    {
     "name": "stderr",
     "output_type": "stream",
     "text": [
      "         1     -470349.0823             +nan\n",
      "         2     -437744.6422      +32604.4400\n",
      "         3     -432900.7473       +4843.8949\n",
      "         4     -431824.9966       +1075.7508\n",
      "         5     -431221.7522        +603.2444\n",
      "         6     -430915.7755        +305.9767\n",
      "         7     -430767.4832        +148.2923\n",
      "         8     -430667.8906         +99.5926\n",
      "         9     -430581.0706         +86.8200\n",
      "        10     -430515.4203         +65.6503\n",
      "        11     -430483.0501         +32.3702\n",
      "        12     -430462.4525         +20.5976\n",
      "        13     -430443.3886         +19.0639\n",
      "        14     -430415.6243         +27.7643\n",
      "        15     -430375.8305         +39.7938\n",
      "        16     -430323.0057         +52.8248\n",
      "        17     -430211.3684        +111.6373\n",
      "        18     -430101.5262        +109.8421\n",
      "        19     -430081.6752         +19.8510\n",
      "        20     -430079.4864          +2.1888\n",
      "        21     -430078.9283          +0.5581\n",
      "        22     -430078.5121          +0.4162\n",
      "        23     -430077.9701          +0.5420\n",
      "        24     -430077.6180          +0.3522\n",
      "        25     -430077.5020          +0.1160\n",
      "        26     -430077.4491          +0.0529\n",
      "        27     -430077.4147          +0.0343\n",
      "        28     -430077.3898          +0.0249\n",
      "        29     -430077.3711          +0.0188\n",
      "        30     -430077.3566          +0.0144\n",
      "        31     -430077.3453          +0.0113\n",
      "        32     -430077.3364          +0.0090\n"
     ]
    },
    {
     "name": "stdout",
     "output_type": "stream",
     "text": [
      "xemngay\n"
     ]
    },
    {
     "name": "stderr",
     "output_type": "stream",
     "text": [
      "         1     -154471.6228             +nan\n",
      "         2     -141353.1852      +13118.4375\n",
      "         3     -140410.6432        +942.5420\n",
      "         4     -140674.2050        -263.5618\n"
     ]
    }
   ],
   "source": [
    "for idx, cname in enumerate(class_names):\n",
    "    start_prob = np.full(states[idx], 0.0)\n",
    "    trans_matrix = np.full((states[idx], states[idx]), 0.0)\n",
    "    p = 0.5\n",
    "    np.fill_diagonal(trans_matrix, p)\n",
    "    np.fill_diagonal(trans_matrix[0:, 1:], 1 - p)\n",
    "    trans_matrix[-1, -1] = 1.0\n",
    "\n",
    "    # trans matrix\n",
    "    print(cname)\n",
    "    # print(trans_matrix)\n",
    "\n",
    "    model[cname] = hmm.GaussianHMM(\n",
    "        n_components=states[idx],\n",
    "        verbose=True,\n",
    "        n_iter=300,\n",
    "        startprob_prior=start_prob,\n",
    "        transmat_prior=trans_matrix,\n",
    "        params='stmc',\n",
    "        init_params='mc',\n",
    "        random_state=42\n",
    "    )\n",
    "    model[cname].fit(X=np.vstack(finalX[cname]),\n",
    "        lengths=[x.shape[0] for x in finalX[cname]])"
   ]
  },
  {
   "cell_type": "code",
   "execution_count": 35,
   "metadata": {},
   "outputs": [],
   "source": [
    "for cname in class_names:\n",
    "    name = f'{model_path}/model_{cname}.pkl'\n",
    "    with open(name, 'wb') as file:\n",
    "        pickle.dump(model[cname], file)"
   ]
  },
  {
   "cell_type": "markdown",
   "metadata": {},
   "source": [
    "Test with new wav file"
   ]
  },
  {
   "cell_type": "code",
   "execution_count": 55,
   "metadata": {},
   "outputs": [
    {
     "name": "stdout",
     "output_type": "stream",
     "text": [
      "[-10126.85010978849, -10056.375667373346, -12731.506846152246]\n",
      "Output: xemgio\n"
     ]
    }
   ],
   "source": [
    "test_file_path = 'datasets/random_test_audio/xemgio.wav'\n",
    "test_mfcc = get_mfcc(test_file_path)\n",
    "scores = [model[cname].score(test_mfcc) for cname in class_names]\n",
    "print(scores)\n",
    "print(\"Output:\",class_names[np.argmax(scores)])"
   ]
  }
 ],
 "metadata": {
  "interpreter": {
   "hash": "cfcfbbd76e88e95dc35e2ca9edf0c1e882d0553cc29bc4cac8c0f4eabeb0ecb9"
  },
  "kernelspec": {
   "display_name": "Python 3.10.2 64-bit",
   "language": "python",
   "name": "python3"
  },
  "language_info": {
   "codemirror_mode": {
    "name": "ipython",
    "version": 3
   },
   "file_extension": ".py",
   "mimetype": "text/x-python",
   "name": "python",
   "nbconvert_exporter": "python",
   "pygments_lexer": "ipython3",
   "version": "3.10.2"
  },
  "orig_nbformat": 4
 },
 "nbformat": 4,
 "nbformat_minor": 2
}
