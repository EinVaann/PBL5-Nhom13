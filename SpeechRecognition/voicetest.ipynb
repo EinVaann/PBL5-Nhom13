{
 "cells": [
  {
   "cell_type": "code",
   "execution_count": 1,
   "metadata": {},
   "outputs": [],
   "source": [
    "import math\n",
    "\n",
    "import librosa\n",
    "import numpy as np\n",
    "\n",
    "def get_mfcc(file_path):\n",
    "    y, sr = librosa.load(file_path)  # read .wav file\n",
    "    hop_length = math.floor(sr * 0.010)  # 10ms hop\n",
    "    win_length = math.floor(sr * 0.025)  # 25ms frame\n",
    "    # mfcc is 12 x T matrix\n",
    "    mfcc = librosa.feature.mfcc(\n",
    "        y=y, sr=sr, n_mfcc=12, n_fft=1024,\n",
    "        hop_length=hop_length, win_length=win_length)\n",
    "    # subtract mean from mfcc --> normalize mfcc\n",
    "    mfcc = mfcc - np.mean(mfcc, axis=1).reshape((-1, 1))\n",
    "    # delta feature 1st order and 2nd order\n",
    "    delta1 = librosa.feature.delta(mfcc, order=1)\n",
    "    delta2 = librosa.feature.delta(mfcc, order=2)\n",
    "    # X is 36 x T\n",
    "    X = np.concatenate([mfcc, delta1, delta2], axis=0)  # O^r\n",
    "    # return T x 36 (transpose of X)\n",
    "    return X.T  # hmmlearn use T x N matrix"
   ]
  },
  {
   "cell_type": "code",
   "execution_count": 2,
   "metadata": {},
   "outputs": [],
   "source": [
    "import os\n",
    "import pickle\n",
    "\n",
    "import hmmlearn.hmm as hmm\n",
    "import numpy as np\n",
    "from sklearn.model_selection import train_test_split\n",
    "from sklearn.metrics import confusion_matrix"
   ]
  },
  {
   "cell_type": "code",
   "execution_count": 4,
   "metadata": {},
   "outputs": [],
   "source": [
    "class_names = ['xemnhietdo', 'xemgio']\n",
    "states = [8,8]\n",
    "dataset_path = 'datasets/train_audio'"
   ]
  },
  {
   "cell_type": "code",
   "execution_count": 6,
   "metadata": {},
   "outputs": [],
   "source": [
    "X = {'train': {}, 'test': {}}\n",
    "y = {'train': {}, 'test': {}}\n",
    "\n",
    "model = {}\n",
    "model_path = 'model'"
   ]
  },
  {
   "cell_type": "code",
   "execution_count": 7,
   "metadata": {},
   "outputs": [
    {
     "name": "stdout",
     "output_type": "stream",
     "text": [
      "Total samples: 110\n"
     ]
    }
   ],
   "source": [
    "length = 0\n",
    "for cname in class_names:\n",
    "    length += len(os.listdir(f\"{dataset_path}/{cname}\"))\n",
    "print('Total samples:', length)\n",
    "\n",
    "all_data = {}\n",
    "all_labels = {}\n",
    "for cname in class_names:\n",
    "    file_paths = [os.path.join(dataset_path, cname, i) for i in os.listdir(\n",
    "        os.path.join(dataset_path, cname)) if i.endswith('.wav')]\n",
    "    data = [get_mfcc(file_path) for file_path in file_paths]\n",
    "    all_data[cname] = data\n",
    "    all_labels[cname] = [class_names.index(cname) for _ in range(len(file_paths))]\n",
    "\n",
    "for cname in class_names:\n",
    "    x_train, x_test, y_train, y_test = train_test_split(\n",
    "        all_data[cname], all_labels[cname],\n",
    "        test_size=0.33,\n",
    "        random_state=42\n",
    "    )\n",
    "\n",
    "    X['train'][cname] = x_train\n",
    "    X['test'][cname] = x_test\n",
    "    y['test'][cname] = y_test"
   ]
  },
  {
   "cell_type": "code",
   "execution_count": 8,
   "metadata": {},
   "outputs": [
    {
     "name": "stdout",
     "output_type": "stream",
     "text": [
      "xemnhietdo train: 33 | test: 17\n",
      "xemgio train: 40 | test: 20\n",
      "train samples: 73\n",
      "test samples 37\n"
     ]
    }
   ],
   "source": [
    "total_train = 0\n",
    "total_test = 0\n",
    "for cname in class_names:\n",
    "    train_count = len(X['train'][cname])\n",
    "    test_count = len(X['test'][cname])\n",
    "    print(cname, 'train:', train_count, '| test:', test_count)\n",
    "    total_train += train_count\n",
    "    total_test += test_count\n",
    "print('train samples:', total_train)\n",
    "print('test samples', total_test)"
   ]
  },
  {
   "cell_type": "code",
   "execution_count": 9,
   "metadata": {},
   "outputs": [
    {
     "name": "stdout",
     "output_type": "stream",
     "text": [
      "xemnhietdo\n",
      "[[0.5 0.5 0.  0.  0.  0.  0.  0. ]\n",
      " [0.  0.5 0.5 0.  0.  0.  0.  0. ]\n",
      " [0.  0.  0.5 0.5 0.  0.  0.  0. ]\n",
      " [0.  0.  0.  0.5 0.5 0.  0.  0. ]\n",
      " [0.  0.  0.  0.  0.5 0.5 0.  0. ]\n",
      " [0.  0.  0.  0.  0.  0.5 0.5 0. ]\n",
      " [0.  0.  0.  0.  0.  0.  0.5 0.5]\n",
      " [0.  0.  0.  0.  0.  0.  0.  1. ]]\n"
     ]
    },
    {
     "name": "stderr",
     "output_type": "stream",
     "text": [
      "         1     -431041.1211             +nan\n",
      "         2     -402852.8037      +28188.3174\n",
      "         3     -395594.3568       +7258.4470\n",
      "         4     -393559.0424       +2035.3143\n",
      "         5     -392443.5900       +1115.4524\n",
      "         6     -391713.4664        +730.1236\n",
      "         7     -391270.9739        +442.4925\n",
      "         8     -390914.0473        +356.9267\n",
      "         9     -390623.3559        +290.6913\n",
      "        10     -390380.5081        +242.8478\n",
      "        11     -390168.1890        +212.3191\n",
      "        12     -389968.6348        +199.5542\n",
      "        13     -389833.3443        +135.2905\n",
      "        14     -389715.9417        +117.4025\n",
      "        15     -389664.0348         +51.9069\n",
      "        16     -389637.2492         +26.7856\n",
      "        17     -389622.0577         +15.1914\n",
      "        18     -389609.6840         +12.3737\n",
      "        19     -389597.8145         +11.8695\n",
      "        20     -389588.9248          +8.8897\n",
      "        21     -389585.2458          +3.6789\n",
      "        22     -389583.9224          +1.3234\n",
      "        23     -389583.4031          +0.5193\n",
      "        24     -389583.1897          +0.2135\n",
      "        25     -389583.1003          +0.0893\n",
      "        26     -389583.0627          +0.0376\n",
      "        27     -389583.0470          +0.0157\n",
      "        28     -389583.0408          +0.0063\n"
     ]
    },
    {
     "name": "stdout",
     "output_type": "stream",
     "text": [
      "xemgio\n",
      "[[0.5 0.5 0.  0.  0.  0.  0.  0. ]\n",
      " [0.  0.5 0.5 0.  0.  0.  0.  0. ]\n",
      " [0.  0.  0.5 0.5 0.  0.  0.  0. ]\n",
      " [0.  0.  0.  0.5 0.5 0.  0.  0. ]\n",
      " [0.  0.  0.  0.  0.5 0.5 0.  0. ]\n",
      " [0.  0.  0.  0.  0.  0.5 0.5 0. ]\n",
      " [0.  0.  0.  0.  0.  0.  0.5 0.5]\n",
      " [0.  0.  0.  0.  0.  0.  0.  1. ]]\n"
     ]
    },
    {
     "name": "stderr",
     "output_type": "stream",
     "text": [
      "         1     -314000.8162             +nan\n",
      "         2     -292342.3005      +21658.5157\n",
      "         3     -289176.3832       +3165.9173\n",
      "         4     -288369.2198        +807.1633\n",
      "         5     -287952.3035        +416.9163\n",
      "         6     -287537.2422        +415.0613\n",
      "         7     -287081.2172        +456.0250\n",
      "         8     -286729.9543        +351.2629\n",
      "         9     -286667.1348         +62.8195\n",
      "        10     -286638.0752         +29.0596\n",
      "        11     -286620.4595         +17.6157\n",
      "        12     -286611.7289          +8.7306\n",
      "        13     -286606.6927          +5.0362\n",
      "        14     -286603.1139          +3.5788\n",
      "        15     -286600.5057          +2.6082\n",
      "        16     -286598.5590          +1.9467\n",
      "        17     -286597.1130          +1.4459\n",
      "        18     -286596.1295          +0.9836\n",
      "        19     -286595.5085          +0.6209\n",
      "        20     -286595.1561          +0.3525\n",
      "        21     -286594.9659          +0.1902\n",
      "        22     -286594.8560          +0.1099\n",
      "        23     -286594.7869          +0.0691\n",
      "        24     -286594.7408          +0.0460\n",
      "        25     -286594.7089          +0.0319\n",
      "        26     -286594.6858          +0.0231\n",
      "        27     -286594.6684          +0.0174\n",
      "        28     -286594.6546          +0.0138\n",
      "        29     -286594.6430          +0.0115\n",
      "        30     -286594.6330          +0.0101\n",
      "        31     -286594.6238          +0.0092\n"
     ]
    }
   ],
   "source": [
    "for idx, cname in enumerate(class_names):\n",
    "    start_prob = np.full(states[idx], 0.0)\n",
    "    start_prob[0] = 1.0\n",
    "    trans_matrix = np.full((states[idx], states[idx]), 0.0)\n",
    "    p = 0.5\n",
    "    np.fill_diagonal(trans_matrix, p)\n",
    "    np.fill_diagonal(trans_matrix[0:, 1:], 1 - p)\n",
    "    trans_matrix[-1, -1] = 1.0\n",
    "\n",
    "    # trans matrix\n",
    "    print(cname)\n",
    "    print(trans_matrix)\n",
    "\n",
    "    model[cname] = hmm.GaussianHMM(\n",
    "        n_components=states[idx],\n",
    "        verbose=True,\n",
    "        n_iter=300,\n",
    "        startprob_prior=start_prob,\n",
    "        transmat_prior=trans_matrix,\n",
    "        params='stmc',\n",
    "        init_params='mc',\n",
    "        random_state=42\n",
    "    )\n",
    "    model[cname].fit(X=np.vstack(X['train'][cname]),\n",
    "                            lengths=[x.shape[0] for x in X['train'][cname]])"
   ]
  },
  {
   "cell_type": "code",
   "execution_count": 10,
   "metadata": {},
   "outputs": [],
   "source": [
    "for cname in class_names:\n",
    "    name = f'{model_path}/model_{cname}.pkl'\n",
    "    with open(name, 'wb') as file:\n",
    "        pickle.dump(model[cname], file)"
   ]
  },
  {
   "cell_type": "code",
   "execution_count": 11,
   "metadata": {},
   "outputs": [
    {
     "name": "stdout",
     "output_type": "stream",
     "text": [
      "====== Evaluation ======\n",
      "xemnhietdo: 1.0\n",
      "xemgio: 1.0\n",
      "======\n",
      "Confusion matrix:\n",
      "[[17  0]\n",
      " [ 0 20]]\n"
     ]
    }
   ],
   "source": [
    "print('====== Evaluation ======')\n",
    "y_true = []\n",
    "y_pred = []\n",
    "for cname in class_names:\n",
    "    for mfcc, target in zip(X['test'][cname], y['test'][cname]):\n",
    "        scores = [model[cname].score(mfcc) for cname in class_names]\n",
    "        pred = np.argmax(scores)\n",
    "        y_pred.append(pred)\n",
    "        y_true.append(target)\n",
    "    print(f'{cname}:', (np.array(y_true) == np.array(y_pred)).sum() / len(y_true))\n",
    "print('======')\n",
    "print('Confusion matrix:')\n",
    "print(confusion_matrix(y_true, y_pred))"
   ]
  },
  {
   "cell_type": "markdown",
   "metadata": {},
   "source": [
    "Train with full dataset"
   ]
  },
  {
   "cell_type": "code",
   "execution_count": 15,
   "metadata": {},
   "outputs": [
    {
     "name": "stdout",
     "output_type": "stream",
     "text": [
      "xemnhietdo 50\n",
      "xemgio 60\n"
     ]
    }
   ],
   "source": [
    "finalX = {}\n",
    "for cname in class_names:\n",
    "    finalX[cname] = X['test'][cname] + X['train'][cname]\n",
    "    print(cname,len(finalX[cname]))"
   ]
  },
  {
   "cell_type": "code",
   "execution_count": 16,
   "metadata": {},
   "outputs": [
    {
     "name": "stdout",
     "output_type": "stream",
     "text": [
      "xemnhietdo\n"
     ]
    },
    {
     "name": "stderr",
     "output_type": "stream",
     "text": [
      "         1     -689212.9468             +nan\n",
      "         2     -637646.8510      +51566.0958\n",
      "         3     -628314.4702       +9332.3808\n",
      "         4     -625918.5077       +2395.9625\n",
      "         5     -625109.7996        +808.7081\n",
      "         6     -624498.7135        +611.0861\n",
      "         7     -624011.1385        +487.5751\n",
      "         8     -623489.2553        +521.8832\n",
      "         9     -623035.0758        +454.1796\n",
      "        10     -622625.5721        +409.5037\n",
      "        11     -622356.9387        +268.6334\n",
      "        12     -622186.0968        +170.8419\n",
      "        13     -622067.2226        +118.8742\n",
      "        14     -621966.7293        +100.4933\n",
      "        15     -621861.2894        +105.4399\n",
      "        16     -621766.8618         +94.4276\n",
      "        17     -621677.9993         +88.8625\n",
      "        18     -621592.7954         +85.2039\n",
      "        19     -621537.5155         +55.2799\n",
      "        20     -621494.9459         +42.5696\n",
      "        21     -621445.7296         +49.2162\n",
      "        22     -621400.1592         +45.5705\n",
      "        23     -621365.4064         +34.7528\n",
      "        24     -621333.2815         +32.1248\n",
      "        25     -621299.9389         +33.3426\n",
      "        26     -621269.8031         +30.1358\n",
      "        27     -621244.7894         +25.0137\n",
      "        28     -621221.8525         +22.9369\n",
      "        29     -621201.2746         +20.5779\n",
      "        30     -621183.2927         +17.9820\n",
      "        31     -621163.7237         +19.5690\n",
      "        32     -621139.5185         +24.2052\n",
      "        33     -621117.3495         +22.1690\n",
      "        34     -621101.6824         +15.6671\n",
      "        35     -621081.0649         +20.6176\n",
      "        36     -621040.5418         +40.5230\n",
      "        37     -620988.0343         +52.5075\n",
      "        38     -620965.7489         +22.2853\n",
      "        39     -620952.0982         +13.6507\n",
      "        40     -620943.2832          +8.8150\n",
      "        41     -620937.5163          +5.7670\n",
      "        42     -620934.3968          +3.1194\n",
      "        43     -620932.4292          +1.9676\n",
      "        44     -620930.8492          +1.5800\n",
      "        45     -620929.4055          +1.4437\n",
      "        46     -620928.1787          +1.2268\n",
      "        47     -620927.1827          +0.9960\n",
      "        48     -620926.3621          +0.8206\n",
      "        49     -620925.7005          +0.6616\n",
      "        50     -620925.2004          +0.5002\n",
      "        51     -620924.8416          +0.3588\n",
      "        52     -620924.5888          +0.2528\n",
      "        53     -620924.4114          +0.1774\n",
      "        54     -620924.2879          +0.1235\n",
      "        55     -620924.2029          +0.0850\n",
      "        56     -620924.1449          +0.0579\n",
      "        57     -620924.1057          +0.0392\n",
      "        58     -620924.0793          +0.0264\n",
      "        59     -620924.0615          +0.0178\n",
      "        60     -620924.0496          +0.0119\n",
      "        61     -620924.0416          +0.0080\n"
     ]
    },
    {
     "name": "stdout",
     "output_type": "stream",
     "text": [
      "xemgio\n"
     ]
    },
    {
     "name": "stderr",
     "output_type": "stream",
     "text": [
      "         1     -470349.0823             +nan\n",
      "         2     -437744.6423      +32604.4400\n",
      "         3     -432900.7474       +4843.8949\n",
      "         4     -431824.9967       +1075.7507\n",
      "         5     -431221.7523        +603.2444\n",
      "         6     -430915.7755        +305.9767\n",
      "         7     -430767.4832        +148.2923\n",
      "         8     -430667.8906         +99.5926\n",
      "         9     -430581.0706         +86.8200\n",
      "        10     -430515.4203         +65.6503\n",
      "        11     -430483.0501         +32.3702\n",
      "        12     -430462.4525         +20.5976\n",
      "        13     -430443.3886         +19.0639\n",
      "        14     -430415.6243         +27.7643\n",
      "        15     -430375.8305         +39.7938\n",
      "        16     -430323.0058         +52.8248\n",
      "        17     -430211.3685        +111.6373\n",
      "        18     -430101.5263        +109.8422\n",
      "        19     -430081.6752         +19.8511\n",
      "        20     -430079.4864          +2.1888\n",
      "        21     -430078.9283          +0.5581\n",
      "        22     -430078.5121          +0.4162\n",
      "        23     -430077.9701          +0.5420\n",
      "        24     -430077.6180          +0.3522\n",
      "        25     -430077.5020          +0.1160\n",
      "        26     -430077.4491          +0.0529\n",
      "        27     -430077.4147          +0.0343\n",
      "        28     -430077.3898          +0.0249\n",
      "        29     -430077.3711          +0.0188\n",
      "        30     -430077.3566          +0.0144\n",
      "        31     -430077.3453          +0.0113\n",
      "        32     -430077.3364          +0.0090\n"
     ]
    }
   ],
   "source": [
    "for idx, cname in enumerate(class_names):\n",
    "    start_prob = np.full(states[idx], 0.0)\n",
    "    trans_matrix = np.full((states[idx], states[idx]), 0.0)\n",
    "    p = 0.5\n",
    "    np.fill_diagonal(trans_matrix, p)\n",
    "    np.fill_diagonal(trans_matrix[0:, 1:], 1 - p)\n",
    "    trans_matrix[-1, -1] = 1.0\n",
    "\n",
    "    # trans matrix\n",
    "    print(cname)\n",
    "    # print(trans_matrix)\n",
    "\n",
    "    model[cname] = hmm.GaussianHMM(\n",
    "        n_components=states[idx],\n",
    "        verbose=True,\n",
    "        n_iter=300,\n",
    "        startprob_prior=start_prob,\n",
    "        transmat_prior=trans_matrix,\n",
    "        params='stmc',\n",
    "        init_params='mc',\n",
    "        random_state=42\n",
    "    )\n",
    "    model[cname].fit(X=np.vstack(finalX[cname]),\n",
    "        lengths=[x.shape[0] for x in finalX[cname]])"
   ]
  },
  {
   "cell_type": "code",
   "execution_count": 17,
   "metadata": {},
   "outputs": [],
   "source": [
    "for cname in class_names:\n",
    "    name = f'{model_path}/model_{cname}.pkl'\n",
    "    with open(name, 'wb') as file:\n",
    "        pickle.dump(model[cname], file)"
   ]
  },
  {
   "cell_type": "markdown",
   "metadata": {},
   "source": [
    "Test with new wav file"
   ]
  },
  {
   "cell_type": "code",
   "execution_count": 20,
   "metadata": {},
   "outputs": [
    {
     "name": "stdout",
     "output_type": "stream",
     "text": [
      "[-10130.022710554333, -10065.765174124675]\n",
      "Output: xemgio\n"
     ]
    }
   ],
   "source": [
    "test_file_path = 'datasets/random_test_audio/xemgio.wav'\n",
    "test_mfcc = get_mfcc(test_file_path)\n",
    "scores = [model[cname].score(test_mfcc) for cname in class_names]\n",
    "print(scores)\n",
    "print(\"Output:\",class_names[np.argmax(scores)])"
   ]
  }
 ],
 "metadata": {
  "interpreter": {
   "hash": "cfcfbbd76e88e95dc35e2ca9edf0c1e882d0553cc29bc4cac8c0f4eabeb0ecb9"
  },
  "kernelspec": {
   "display_name": "Python 3.10.2 64-bit",
   "language": "python",
   "name": "python3"
  },
  "language_info": {
   "codemirror_mode": {
    "name": "ipython",
    "version": 3
   },
   "file_extension": ".py",
   "mimetype": "text/x-python",
   "name": "python",
   "nbconvert_exporter": "python",
   "pygments_lexer": "ipython3",
   "version": "3.10.2"
  },
  "orig_nbformat": 4
 },
 "nbformat": 4,
 "nbformat_minor": 2
}
