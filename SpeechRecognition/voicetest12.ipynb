{
 "cells": [
  {
   "cell_type": "code",
   "execution_count": 1,
   "metadata": {},
   "outputs": [],
   "source": [
    "import math\n",
    "\n",
    "import librosa\n",
    "import numpy as np\n",
    "\n",
    "def get_mfcc(file_path):\n",
    "    y, sr = librosa.load(file_path)  # read .wav file\n",
    "    hop_length = math.floor(sr * 0.010)  # 10ms hop\n",
    "    win_length = math.floor(sr * 0.025)  # 25ms frame\n",
    "    # mfcc is 12 x T matrix\n",
    "    mfcc = librosa.feature.mfcc(\n",
    "        y=y, sr=sr, n_mfcc=12, n_fft=1024,\n",
    "        hop_length=hop_length, win_length=win_length)\n",
    "    # subtract mean from mfcc --> normalize mfcc\n",
    "    mfcc = mfcc - np.mean(mfcc, axis=1).reshape((-1, 1))\n",
    "    # delta feature 1st order and 2nd order\n",
    "    delta1 = librosa.feature.delta(mfcc, order=1)\n",
    "    delta2 = librosa.feature.delta(mfcc, order=2)\n",
    "    # X is 36 x T\n",
    "    X = np.concatenate([mfcc, delta1, delta2], axis=0) \n",
    "    # return T x 36 (transpose of X)\n",
    "    return X.T  # hmmlearn use T x N matrix"
   ]
  },
  {
   "cell_type": "code",
   "execution_count": 2,
   "metadata": {},
   "outputs": [],
   "source": [
    "import os\n",
    "import pickle\n",
    "\n",
    "import hmmlearn.hmm as hmm\n",
    "import numpy as np\n",
    "from sklearn.model_selection import train_test_split\n",
    "from sklearn.metrics import confusion_matrix"
   ]
  },
  {
   "cell_type": "code",
   "execution_count": 3,
   "metadata": {},
   "outputs": [],
   "source": [
    "class_names = ['XemNhietDo','XemGio','XemNgay','XemThoiTiet','BatNhac','TatNhac','BatQuat','TatQuat','BatDen','TatDen']\n",
    "states = [10, 7, 8, 11, 7, 7, 7, 7, 7,7]\n",
    "dataset_path = 'datasets/train_audio'"
   ]
  },
  {
   "cell_type": "code",
   "execution_count": 4,
   "metadata": {},
   "outputs": [],
   "source": [
    "X = {'train': {}, 'test': {}}\n",
    "y = {'train': {}, 'test': {}}\n",
    "\n",
    "model = {}\n",
    "model_path = 'model'"
   ]
  },
  {
   "cell_type": "code",
   "execution_count": 5,
   "metadata": {},
   "outputs": [
    {
     "name": "stdout",
     "output_type": "stream",
     "text": [
      "Total samples: 540\n"
     ]
    }
   ],
   "source": [
    "length = 0\n",
    "for cname in class_names:\n",
    "    length += len(os.listdir(f\"{dataset_path}/{cname}\"))\n",
    "print('Total samples:', length)\n",
    "\n",
    "all_data = {}\n",
    "all_labels = {}\n",
    "for cname in class_names:\n",
    "    file_paths = [os.path.join(dataset_path, cname, i) for i in os.listdir(\n",
    "        os.path.join(dataset_path, cname)) if i.endswith('.wav')]\n",
    "    data = [get_mfcc(file_path) for file_path in file_paths]\n",
    "    all_data[cname] = data\n",
    "    all_labels[cname] = [class_names.index(cname) for _ in range(len(file_paths))]\n",
    "\n",
    "for cname in class_names:\n",
    "    x_train, x_test, y_train, y_test = train_test_split(\n",
    "        all_data[cname], all_labels[cname],\n",
    "        test_size=0.33,\n",
    "        random_state=42\n",
    "    )\n",
    "\n",
    "    X['train'][cname] = x_train\n",
    "    X['test'][cname] = x_test\n",
    "    y['test'][cname] = y_test"
   ]
  },
  {
   "cell_type": "code",
   "execution_count": 6,
   "metadata": {},
   "outputs": [
    {
     "name": "stdout",
     "output_type": "stream",
     "text": [
      "xemnhietdo train: 40 | test: 20\n",
      "xemgio train: 40 | test: 20\n",
      "xemngay train: 40 | test: 20\n",
      "xemthoitiet train: 40 | test: 20\n",
      "tat train: 40 | test: 20\n",
      "bat train: 40 | test: 20\n",
      "quat train: 40 | test: 20\n",
      "nhac train: 40 | test: 20\n",
      "den train: 40 | test: 20\n",
      "train samples: 360\n",
      "test samples 180\n"
     ]
    }
   ],
   "source": [
    "total_train = 0\n",
    "total_test = 0\n",
    "for cname in class_names:\n",
    "    train_count = len(X['train'][cname])\n",
    "    test_count = len(X['test'][cname])\n",
    "    print(cname, 'train:', train_count, '| test:', test_count)\n",
    "    total_train += train_count\n",
    "    total_test += test_count\n",
    "print('train samples:', total_train)\n",
    "print('test samples', total_test)"
   ]
  },
  {
   "cell_type": "code",
   "execution_count": 8,
   "metadata": {},
   "outputs": [
    {
     "name": "stdout",
     "output_type": "stream",
     "text": [
      "xemnhietdo\n"
     ]
    },
    {
     "name": "stderr",
     "output_type": "stream",
     "text": [
      "         1     -512141.5479             +nan\n",
      "         2     -478753.8568      +33387.6911\n",
      "         3     -469056.5194       +9697.3374\n",
      "         4     -466802.3667       +2254.1526\n",
      "         5     -466134.3788        +667.9879\n",
      "         6     -465780.6062        +353.7726\n",
      "         7     -465406.8483        +373.7578\n",
      "         8     -465114.7306        +292.1177\n",
      "         9     -464982.8753        +131.8554\n",
      "        10     -464920.3340         +62.5413\n",
      "        11     -464840.8544         +79.4797\n",
      "        12     -464738.9708        +101.8836\n",
      "        13     -464630.2908        +108.6799\n",
      "        14     -464533.3330         +96.9578\n",
      "        15     -464425.0139        +108.3191\n",
      "        16     -464391.4762         +33.5377\n",
      "        17     -464368.0806         +23.3956\n",
      "        18     -464359.0348          +9.0458\n",
      "        19     -464353.2426          +5.7922\n",
      "        20     -464348.9050          +4.3376\n",
      "        21     -464344.3653          +4.5397\n",
      "        22     -464341.2354          +3.1299\n",
      "        23     -464339.6032          +1.6322\n",
      "        24     -464338.4427          +1.1605\n",
      "        25     -464336.9444          +1.4983\n",
      "        26     -464333.9754          +2.9690\n",
      "        27     -464328.3823          +5.5931\n",
      "        28     -464326.0262          +2.3561\n",
      "        29     -464325.0307          +0.9955\n",
      "        30     -464324.6753          +0.3554\n",
      "        31     -464324.6776          -0.0023\n"
     ]
    },
    {
     "name": "stdout",
     "output_type": "stream",
     "text": [
      "xemgio\n"
     ]
    },
    {
     "name": "stderr",
     "output_type": "stream",
     "text": [
      "         1     -314934.5055             +nan\n",
      "         2     -294993.4506      +19941.0549\n",
      "         3     -292450.3865       +2543.0641\n",
      "         4     -291734.8741        +715.5125\n",
      "         5     -291253.7239        +481.1501\n",
      "         6     -290892.4543        +361.2696\n",
      "         7     -290524.0845        +368.3698\n",
      "         8     -290322.7137        +201.3708\n",
      "         9     -290277.4748         +45.2389\n",
      "        10     -290247.5850         +29.8898\n",
      "        11     -290217.8751         +29.7099\n",
      "        12     -290169.8261         +48.0490\n",
      "        13     -290135.4880         +34.3380\n",
      "        14     -290103.0854         +32.4026\n",
      "        15     -290071.9748         +31.1106\n",
      "        16     -290046.0230         +25.9518\n",
      "        17     -290034.5364         +11.4867\n",
      "        18     -290026.8930          +7.6434\n",
      "        19     -290021.5695          +5.3235\n",
      "        20     -290018.0958          +3.4736\n",
      "        21     -290015.0971          +2.9987\n",
      "        22     -290011.6278          +3.4694\n",
      "        23     -290007.4694          +4.1584\n",
      "        24     -290006.2808          +1.1886\n",
      "        25     -290008.5458          -2.2650\n"
     ]
    },
    {
     "name": "stdout",
     "output_type": "stream",
     "text": [
      "xemngay\n"
     ]
    },
    {
     "name": "stderr",
     "output_type": "stream",
     "text": [
      "         1     -321352.3315             +nan\n",
      "         2     -296258.3936      +25093.9378\n",
      "         3     -294058.8171       +2199.5765\n",
      "         4     -293897.6825        +161.1346\n",
      "         5     -293813.8510         +83.8315\n",
      "         6     -293740.2870         +73.5640\n",
      "         7     -293713.1655         +27.1215\n",
      "         8     -293703.0950         +10.0705\n",
      "         9     -293696.4410          +6.6541\n",
      "        10     -293691.9961          +4.4449\n",
      "        11     -293689.1679          +2.8282\n",
      "        12     -293687.2244          +1.9435\n",
      "        13     -293685.8972          +1.3272\n",
      "        14     -293684.9916          +0.9057\n",
      "        15     -293684.0209          +0.9707\n",
      "        16     -293680.1180          +3.9029\n",
      "        17     -293674.7591          +5.3589\n",
      "        18     -293673.9369          +0.8223\n",
      "        19     -293673.6287          +0.3082\n",
      "        20     -293673.4444          +0.1843\n",
      "        21     -293673.3209          +0.1234\n",
      "        22     -293673.2251          +0.0958\n",
      "        23     -293673.1415          +0.0837\n",
      "        24     -293673.0636          +0.0779\n",
      "        25     -293672.9901          +0.0735\n",
      "        26     -293672.9232          +0.0668\n",
      "        27     -293672.8666          +0.0566\n",
      "        28     -293672.8224          +0.0442\n",
      "        29     -293672.7900          +0.0323\n",
      "        30     -293672.7673          +0.0227\n",
      "        31     -293672.7515          +0.0158\n",
      "        32     -293672.7405          +0.0110\n",
      "        33     -293672.7328          +0.0077\n"
     ]
    },
    {
     "name": "stdout",
     "output_type": "stream",
     "text": [
      "xemthoitiet\n"
     ]
    },
    {
     "name": "stderr",
     "output_type": "stream",
     "text": [
      "         1     -238436.0501             +nan\n",
      "         2     -216596.6727      +21839.3774\n",
      "         3     -215476.0432       +1120.6294\n",
      "         4     -215271.0897        +204.9535\n",
      "         5     -215161.0704        +110.0193\n",
      "         6     -215067.1451         +93.9253\n",
      "         7     -215016.0654         +51.0796\n",
      "         8     -214982.2677         +33.7978\n",
      "         9     -214942.9724         +39.2952\n",
      "        10     -214893.4743         +49.4982\n",
      "        11     -214843.0455         +50.4288\n",
      "        12     -214778.8859         +64.1596\n",
      "        13     -214717.6740         +61.2120\n",
      "        14     -214637.8165         +79.8574\n",
      "        15     -214563.1479         +74.6687\n",
      "        16     -214493.8000         +69.3479\n",
      "        17     -214435.2349         +58.5651\n",
      "        18     -214395.4972         +39.7377\n",
      "        19     -214372.1309         +23.3663\n",
      "        20     -214364.0602          +8.0707\n",
      "        21     -214362.0705          +1.9897\n",
      "        22     -214361.2706          +0.7999\n",
      "        23     -214351.4579          +9.8127\n",
      "        24     -214347.5661          +3.8918\n",
      "        25     -214347.3459          +0.2202\n",
      "        26     -214345.5267          +1.8192\n",
      "        27     -214345.2931          +0.2336\n",
      "        28     -214345.1585          +0.1346\n",
      "        29     -214345.0723          +0.0862\n",
      "        30     -214345.0155          +0.0568\n",
      "        31     -214344.9779          +0.0376\n",
      "        32     -214344.9530          +0.0249\n",
      "        33     -214344.9366          +0.0164\n",
      "        34     -214344.9259          +0.0107\n",
      "        35     -214344.9188          +0.0070\n"
     ]
    },
    {
     "name": "stdout",
     "output_type": "stream",
     "text": [
      "tat\n"
     ]
    },
    {
     "name": "stderr",
     "output_type": "stream",
     "text": [
      "         1     -268405.6998             +nan\n",
      "         2     -247601.8019      +20803.8979\n",
      "         3     -246299.5946       +1302.2073\n",
      "         4     -246123.0209        +176.5736\n",
      "         5     -246085.2429         +37.7780\n",
      "         6     -246073.2423         +12.0006\n",
      "         7     -246069.2326          +4.0097\n",
      "         8     -246067.4170          +1.8156\n",
      "         9     -246066.4508          +0.9662\n",
      "        10     -246065.8914          +0.5595\n",
      "        11     -246065.5130          +0.3784\n",
      "        12     -246065.2057          +0.3073\n",
      "        13     -246064.9285          +0.2773\n",
      "        14     -246064.6550          +0.2735\n",
      "        15     -246064.3912          +0.2638\n",
      "        16     -246064.2455          +0.1457\n",
      "        17     -246064.2409          +0.0046\n"
     ]
    },
    {
     "name": "stdout",
     "output_type": "stream",
     "text": [
      "bat\n"
     ]
    },
    {
     "name": "stderr",
     "output_type": "stream",
     "text": [
      "         1     -228104.0812             +nan\n",
      "         2     -211786.4757      +16317.6055\n",
      "         3     -210493.2828       +1293.1928\n",
      "         4     -210311.5840        +181.6988\n",
      "         5     -210231.2331         +80.3510\n",
      "         6     -210154.2156         +77.0175\n",
      "         7     -210056.4288         +97.7869\n",
      "         8     -209900.3179        +156.1108\n",
      "         9     -209728.4916        +171.8263\n",
      "        10     -209610.2231        +118.2686\n",
      "        11     -209515.2601         +94.9629\n",
      "        12     -209421.0349         +94.2252\n",
      "        13     -209351.9920         +69.0429\n",
      "        14     -209308.3644         +43.6275\n",
      "        15     -209288.6179         +19.7465\n",
      "        16     -209279.9847          +8.6332\n",
      "        17     -209274.6553          +5.3294\n",
      "        18     -209270.1857          +4.4696\n",
      "        19     -209260.3851          +9.8006\n",
      "        20     -209250.1406         +10.2446\n",
      "        21     -209233.2692         +16.8714\n",
      "        22     -209211.3133         +21.9559\n",
      "        23     -209203.9581          +7.3552\n",
      "        24     -209200.7867          +3.1714\n",
      "        25     -209198.3748          +2.4119\n",
      "        26     -209196.1967          +2.1781\n",
      "        27     -209194.2127          +1.9840\n",
      "        28     -209192.1336          +2.0790\n",
      "        29     -209190.3204          +1.8133\n",
      "        30     -209188.9310          +1.3893\n",
      "        31     -209187.2834          +1.6477\n",
      "        32     -209185.7436          +1.5398\n",
      "        33     -209183.9278          +1.8158\n",
      "        34     -209183.1395          +0.7883\n",
      "        35     -209183.0048          +0.1347\n",
      "        36     -209182.9345          +0.0703\n",
      "        37     -209182.8904          +0.0441\n",
      "        38     -209182.8609          +0.0295\n",
      "        39     -209182.8403          +0.0206\n",
      "        40     -209182.8254          +0.0149\n",
      "        41     -209182.8144          +0.0110\n",
      "        42     -209182.8060          +0.0084\n"
     ]
    },
    {
     "name": "stdout",
     "output_type": "stream",
     "text": [
      "quat\n"
     ]
    },
    {
     "name": "stderr",
     "output_type": "stream",
     "text": [
      "         1     -219334.7229             +nan\n",
      "         2     -206069.4698      +13265.2531\n",
      "         3     -204329.0837       +1740.3861\n",
      "         4     -203867.4785        +461.6052\n",
      "         5     -203730.9346        +136.5438\n",
      "         6     -203678.7465         +52.1881\n",
      "         7     -203675.5904          +3.1561\n",
      "         8     -203677.1347          -1.5443\n"
     ]
    },
    {
     "name": "stdout",
     "output_type": "stream",
     "text": [
      "nhac\n"
     ]
    },
    {
     "name": "stderr",
     "output_type": "stream",
     "text": [
      "         1     -242561.1456             +nan\n",
      "         2     -224418.2590      +18142.8866\n",
      "         3     -224160.6399        +257.6191\n",
      "         4     -224133.5444         +27.0956\n",
      "         5     -224124.4076          +9.1368\n",
      "         6     -224119.6653          +4.7422\n",
      "         7     -224117.8173          +1.8481\n",
      "         8     -224116.9986          +0.8187\n",
      "         9     -224116.4754          +0.5232\n",
      "        10     -224116.0582          +0.4172\n",
      "        11     -224115.6949          +0.3633\n",
      "        12     -224115.3628          +0.3322\n",
      "        13     -224115.0529          +0.3099\n",
      "        14     -224114.7711          +0.2818\n",
      "        15     -224114.5336          +0.2374\n",
      "        16     -224114.3554          +0.1782\n",
      "        17     -224114.2377          +0.1177\n",
      "        18     -224114.1681          +0.0696\n",
      "        19     -224114.1298          +0.0384\n",
      "        20     -224114.1092          +0.0206\n",
      "        21     -224114.0980          +0.0112\n",
      "        22     -224114.0918          +0.0062\n"
     ]
    },
    {
     "name": "stdout",
     "output_type": "stream",
     "text": [
      "den\n"
     ]
    },
    {
     "name": "stderr",
     "output_type": "stream",
     "text": [
      "         1     -250494.0297             +nan\n",
      "         2     -233943.9056      +16550.1241\n",
      "         3     -233083.9210        +859.9846\n",
      "         4     -232801.4280        +282.4931\n",
      "         5     -232529.3918        +272.0361\n",
      "         6     -232185.3278        +344.0640\n",
      "         7     -231827.3409        +357.9870\n",
      "         8     -231584.1512        +243.1897\n",
      "         9     -231414.1675        +169.9837\n",
      "        10     -231256.9736        +157.1939\n",
      "        11     -231123.1024        +133.8712\n",
      "        12     -231069.0133         +54.0892\n",
      "        13     -231044.1770         +24.8362\n",
      "        14     -231027.4959         +16.6811\n",
      "        15     -231011.8420         +15.6539\n",
      "        16     -230997.3857         +14.4563\n",
      "        17     -230982.5759         +14.8098\n",
      "        18     -230963.4324         +19.1435\n",
      "        19     -230946.9602         +16.4722\n",
      "        20     -230930.8505         +16.1097\n",
      "        21     -230911.1240         +19.7265\n",
      "        22     -230884.5829         +26.5412\n",
      "        23     -230863.0895         +21.4934\n",
      "        24     -230851.1182         +11.9712\n",
      "        25     -230839.6555         +11.4627\n",
      "        26     -230827.8963         +11.7593\n",
      "        27     -230820.0194          +7.8768\n",
      "        28     -230815.3373          +4.6821\n",
      "        29     -230812.5340          +2.8033\n",
      "        30     -230810.5819          +1.9521\n",
      "        31     -230808.7879          +1.7939\n",
      "        32     -230806.9481          +1.8398\n",
      "        33     -230805.5934          +1.3547\n",
      "        34     -230805.0081          +0.5853\n",
      "        35     -230804.8242          +0.1839\n",
      "        36     -230804.7670          +0.0572\n",
      "        37     -230804.7483          +0.0187\n",
      "        38     -230804.7421          +0.0062\n"
     ]
    }
   ],
   "source": [
    "for idx, cname in enumerate(class_names):\n",
    "    start_prob = np.full(states[idx], 0.0)\n",
    "    start_prob[0] = 1.0\n",
    "    trans_matrix = np.full((states[idx], states[idx]), 0.0)\n",
    "    p = 0.5\n",
    "    np.fill_diagonal(trans_matrix, p)\n",
    "    np.fill_diagonal(trans_matrix[0:, 1:], 1 - p)\n",
    "    trans_matrix[-1, -1] = 1.0\n",
    "    # trans matrix\n",
    "    print(cname)\n",
    "\n",
    "    model[cname] = hmm.GaussianHMM(\n",
    "        n_components=states[idx],\n",
    "        verbose=True,\n",
    "        n_iter=300,\n",
    "        startprob_prior=start_prob,\n",
    "        transmat_prior=trans_matrix,\n",
    "        params='stmc',\n",
    "        init_params='mc',\n",
    "        random_state=42\n",
    "    )\n",
    "    model[cname].fit(X=np.vstack(X['train'][cname]),\n",
    "                            lengths=[x.shape[0] for x in X['train'][cname]])"
   ]
  },
  {
   "cell_type": "code",
   "execution_count": 9,
   "metadata": {},
   "outputs": [],
   "source": [
    "for cname in class_names:\n",
    "    name = f'{model_path}/model_{cname}.pkl'\n",
    "    with open(name, 'wb') as file:\n",
    "        pickle.dump(model[cname], file)"
   ]
  },
  {
   "cell_type": "code",
   "execution_count": 10,
   "metadata": {},
   "outputs": [
    {
     "name": "stdout",
     "output_type": "stream",
     "text": [
      "xemnhietdo: 1.0\n",
      "xemgio: 0.975\n",
      "xemngay: 0.9833333333333333\n",
      "xemthoitiet: 0.9875\n",
      "tat: 0.99\n",
      "bat: 0.9916666666666667\n",
      "quat: 0.9928571428571429\n",
      "nhac: 0.9875\n",
      "den: 0.9888888888888889\n",
      "======\n",
      "Confusion matrix:\n",
      "[[20  0  0  0  0  0  0  0  0]\n",
      " [ 1 19  0  0  0  0  0  0  0]\n",
      " [ 0  0 20  0  0  0  0  0  0]\n",
      " [ 0  0  0 20  0  0  0  0  0]\n",
      " [ 0  0  0  0 20  0  0  0  0]\n",
      " [ 0  0  0  0  0 20  0  0  0]\n",
      " [ 0  0  0  0  0  0 20  0  0]\n",
      " [ 0  0  0  0  0  0  0 19  1]\n",
      " [ 0  0  0  0  0  0  0  0 20]]\n"
     ]
    }
   ],
   "source": [
    "y_true = []\n",
    "y_pred = []\n",
    "for cname in class_names:\n",
    "    for mfcc, target in zip(X['test'][cname], y['test'][cname]):\n",
    "        scores = [model[cname].score(mfcc) for cname in class_names]\n",
    "        pred = np.argmax(scores)\n",
    "        y_pred.append(pred)\n",
    "        y_true.append(target)\n",
    "    print(f'{cname}:', (np.array(y_true) == np.array(y_pred)).sum() / len(y_true))\n",
    "print('======')\n",
    "print('Confusion matrix:')\n",
    "print(confusion_matrix(y_true, y_pred))"
   ]
  },
  {
   "cell_type": "markdown",
   "metadata": {},
   "source": [
    "Train with full dataset"
   ]
  },
  {
   "cell_type": "code",
   "execution_count": 22,
   "metadata": {},
   "outputs": [
    {
     "name": "stdout",
     "output_type": "stream",
     "text": [
      "xemnhietdo 60\n",
      "xemgio 60\n",
      "xemngay 60\n",
      "xemgio 60\n",
      "tat 60\n",
      "bat 60\n",
      "quat 60\n",
      "nhac 60\n",
      "den 60\n"
     ]
    }
   ],
   "source": [
    "finalX = {}\n",
    "for cname in class_names:\n",
    "    finalX[cname] = X['test'][cname] + X['train'][cname]\n",
    "    print(cname,len(finalX[cname]))"
   ]
  },
  {
   "cell_type": "code",
   "execution_count": null,
   "metadata": {},
   "outputs": [],
   "source": [
    "for idx, cname in enumerate(class_names):\n",
    "    start_prob = np.full(states, 0.0)\n",
    "    trans_matrix = np.full((states, states), 0.0)\n",
    "    p = 0.5\n",
    "    np.fill_diagonal(trans_matrix, p)\n",
    "    np.fill_diagonal(trans_matrix[0:, 1:], 1 - p)\n",
    "    trans_matrix[-1, -1] = 1.0\n",
    "\n",
    "    # trans matrix\n",
    "    print(cname)\n",
    "    # print(trans_matrix)\n",
    "\n",
    "    model[cname] = hmm.GaussianHMM(\n",
    "        n_components=states,\n",
    "        verbose=True,\n",
    "        n_iter=300,\n",
    "        startprob_prior=start_prob,\n",
    "        transmat_prior=trans_matrix,\n",
    "        params='stmc',\n",
    "        init_params='mc',\n",
    "        random_state=42\n",
    "    )\n",
    "    model[cname].fit(X=np.vstack(finalX[cname]),\n",
    "        lengths=[x.shape[0] for x in finalX[cname]])"
   ]
  },
  {
   "cell_type": "code",
   "execution_count": 24,
   "metadata": {},
   "outputs": [],
   "source": [
    "for cname in class_names:\n",
    "    name = f'{model_path}/model_{cname}.pkl'\n",
    "    with open(name, 'wb') as file:\n",
    "        pickle.dump(model[cname], file)"
   ]
  },
  {
   "cell_type": "markdown",
   "metadata": {},
   "source": [
    "Test with new random wav file"
   ]
  },
  {
   "cell_type": "code",
   "execution_count": 17,
   "metadata": {},
   "outputs": [
    {
     "name": "stdout",
     "output_type": "stream",
     "text": [
      "Input: tat1.wav\n",
      "score: [-3156.6247160914318, -3266.174281367263, -4004.4029607583666, -3598.9693971457077, -3699.11411846695, -3806.9000670368246, -4542.294908987875, -4975.758346145382, -5154.21512666474]\n",
      "Output: xemnhietdo\n"
     ]
    }
   ],
   "source": [
    "test_file_name = 'tat1.wav'\n",
    "test_file_path = 'datasets/random_test_audio/'\n",
    "test_mfcc = get_mfcc(test_file_path+test_file_name)\n",
    "scores = [model[cname].score(test_mfcc) for cname in class_names]\n",
    "\n",
    "print(\"Input:\",test_file_name)\n",
    "print(\"score:\",scores)\n",
    "print(\"Output:\",class_names[np.argmax(scores)])"
   ]
  },
  {
   "cell_type": "code",
   "execution_count": 92,
   "metadata": {},
   "outputs": [
    {
     "data": {
      "text/plain": [
       "array([[0.91020378, 0.        , 0.        , 0.        , 0.08500456,\n",
       "        0.        , 0.00479167],\n",
       "       [0.        , 1.        , 0.        , 0.        , 0.        ,\n",
       "        0.        , 0.        ],\n",
       "       [0.        , 0.034725  , 0.89493378, 0.        , 0.        ,\n",
       "        0.        , 0.07034123],\n",
       "       [0.        , 0.        , 0.        , 0.98654232, 0.        ,\n",
       "        0.01345768, 0.        ],\n",
       "       [0.04146354, 0.        , 0.15466062, 0.        , 0.80387584,\n",
       "        0.        , 0.        ],\n",
       "       [0.        , 0.        , 0.        , 0.        , 0.16248435,\n",
       "        0.83751565, 0.        ],\n",
       "       [0.03870414, 0.        , 0.        , 0.03763044, 0.        ,\n",
       "        0.        , 0.92366542]])"
      ]
     },
     "execution_count": 92,
     "metadata": {},
     "output_type": "execute_result"
    }
   ],
   "source": [
    "model['xemgio'].transmat_"
   ]
  },
  {
   "cell_type": "code",
   "execution_count": 91,
   "metadata": {},
   "outputs": [
    {
     "data": {
      "text/plain": [
       "array([4.19839370e-117, 0.00000000e+000, 0.00000000e+000, 7.89717484e-002,\n",
       "       0.00000000e+000, 9.21028252e-001, 0.00000000e+000])"
      ]
     },
     "execution_count": 91,
     "metadata": {},
     "output_type": "execute_result"
    }
   ],
   "source": [
    "model['xemgio'].startprob_"
   ]
  },
  {
   "cell_type": "code",
   "execution_count": 16,
   "metadata": {},
   "outputs": [
    {
     "name": "stdout",
     "output_type": "stream",
     "text": [
      "22050\n"
     ]
    }
   ],
   "source": [
    "import librosa\n",
    "y, sr = librosa.load('datasets/train_audio/bat/Open1.wav')  # read .wav file\n",
    "print(sr)"
   ]
  }
 ],
 "metadata": {
  "interpreter": {
   "hash": "cfcfbbd76e88e95dc35e2ca9edf0c1e882d0553cc29bc4cac8c0f4eabeb0ecb9"
  },
  "kernelspec": {
   "display_name": "Python 3.10.2 64-bit",
   "language": "python",
   "name": "python3"
  },
  "language_info": {
   "codemirror_mode": {
    "name": "ipython",
    "version": 3
   },
   "file_extension": ".py",
   "mimetype": "text/x-python",
   "name": "python",
   "nbconvert_exporter": "python",
   "pygments_lexer": "ipython3",
   "version": "3.10.2"
  },
  "orig_nbformat": 4
 },
 "nbformat": 4,
 "nbformat_minor": 2
}
